{
 "cells": [
  {
   "cell_type": "markdown",
   "metadata": {},
   "source": [
    "# Kickstarter ProjectsデータセットによるML実装課題\n",
    "[1] kaggle Kickstarter Projects(http://www.kaggle.com/kemical/kickstarter-projects)"
   ]
  },
  {
   "cell_type": "markdown",
   "metadata": {},
   "source": [
    "# 目標：変数stateを目的変数とした分類モデルの構築"
   ]
  },
  {
   "cell_type": "markdown",
   "metadata": {},
   "source": [
    "# 1. パッケージのインポート"
   ]
  },
  {
   "cell_type": "code",
   "execution_count": 1,
   "metadata": {
    "_cell_guid": "b1076dfc-b9ad-4769-8c92-a6c4dae69d19",
    "_uuid": "8f2839f25d086af736a60e9eeb907d3b93b6e0e5"
   },
   "outputs": [
    {
     "name": "stderr",
     "output_type": "stream",
     "text": [
      "Using TensorFlow backend.\n"
     ]
    }
   ],
   "source": [
    "import os\n",
    "import warnings\n",
    "warnings.filterwarnings('ignore')\n",
    "\n",
    "import time\n",
    "import random\n",
    "import math\n",
    "from scipy.sparse import vstack, csr_matrix\n",
    "\n",
    "import numpy as np\n",
    "import pandas as pd\n",
    "import matplotlib.pyplot as plt\n",
    "import seaborn as sns\n",
    "%matplotlib inline\n",
    "\n",
    "import sklearn\n",
    "from sklearn.linear_model import LogisticRegression, LinearRegression, RidgeClassifier\n",
    "from sklearn.tree import DecisionTreeClassifier, ExtraTreeClassifier\n",
    "from sklearn.ensemble import RandomForestClassifier, ExtraTreesClassifier\n",
    "from sklearn.neighbors import KNeighborsClassifier\n",
    "from sklearn.svm import SVC, LinearSVC\n",
    "from sklearn.model_selection import train_test_split, cross_val_score\n",
    "from sklearn.model_selection import KFold, StratifiedKFold, GroupKFold\n",
    "from sklearn.model_selection import GridSearchCV\n",
    "from sklearn.metrics import confusion_matrix, accuracy_score, precision_score, recall_score, f1_score\n",
    "from sklearn.preprocessing import StandardScaler, MinMaxScaler, QuantileTransformer\n",
    "from sklearn.decomposition import PCA\n",
    "from sklearn.manifold import TSNE\n",
    "\n",
    "import tensorflow as tf\n",
    "from tensorflow import keras\n",
    "# keras\n",
    "import tensorflow as tf\n",
    "from tensorflow import keras\n",
    "from tensorflow.keras import backend as K\n",
    "from tensorflow.keras.models import Sequential, Model\n",
    "from tensorflow.keras.layers import Input, Dense, Layer\n",
    "from tensorflow.keras.layers import Activation, Dropout, Flatten, BatchNormalization\n",
    "from tensorflow.keras.layers import MaxPooling2D, AveragePooling2D, GlobalMaxPooling2D, GlobalAveragePooling2D\n",
    "from tensorflow.keras.layers import MaxPooling1D, AveragePooling1D, GlobalMaxPooling1D, GlobalAveragePooling1D\n",
    "from tensorflow.keras.layers import Conv2D, SeparableConv2D\n",
    "from tensorflow.keras.layers import Conv1D, SeparableConv1D\n",
    "from tensorflow.keras.layers import Add, Concatenate, add, concatenate\n",
    "from tensorflow.keras.losses import mean_squared_error, mean_absolute_error, categorical_crossentropy\n",
    "from tensorflow.keras.optimizers import Adadelta, Adagrad, Adam, Adamax, Ftrl, Nadam, RMSprop, SGD\n",
    "from tensorflow.keras.preprocessing.image import ImageDataGenerator\n",
    "from tensorflow.keras.callbacks import EarlyStopping, RemoteMonitor, ReduceLROnPlateau\n",
    "from tensorflow.keras.callbacks import Callback\n",
    "from keras.wrappers.scikit_learn import KerasClassifier\n",
    "\n",
    "import category_encoders as ce\n",
    "import gc"
   ]
  },
  {
   "cell_type": "code",
   "execution_count": 2,
   "metadata": {},
   "outputs": [],
   "source": [
    "def print_validation_scores(y_true, y_pred):\n",
    "    print('accuracy = ', accuracy_score(y_true, y_pred))\n",
    "    print('precision = ', precision_score(y_true, y_pred, average='macro'))\n",
    "    print('recall = ', recall_score(y_true, y_pred, average='macro'))\n",
    "    print('f1 score = ', f1_score(y_true, y_pred, average='macro'))\n",
    "    \n",
    "    print('confusion matrix = \\n', confusion_matrix(y_true, y_pred))\n",
    "    print('confusion matrix plot:')\n",
    "    df_mat = pd.DataFrame(confusion_matrix(y_true, y_pred), index = ['0', '1'],\n",
    "                  columns = ['0', '1'])\n",
    "    sns.heatmap(df_mat, annot=True)\n",
    "    \n",
    "\n",
    "def seed_everything(seed=42):\n",
    "    random.seed(seed)\n",
    "    os.environ['PYTHONHASSEED'] = str(seed)\n",
    "    np.random.seed(seed)\n",
    "    # tensorflow, keras\n",
    "    tf.random.set_seed(seed)\n",
    "    session_conf = tf.compat.v1.ConfigProto(\n",
    "        intra_op_parallelism_threads=1,\n",
    "        inter_op_parallelism_threads=1\n",
    "    )\n",
    "    sess = tf.compat.v1.Session(graph=tf.compat.v1.get_default_graph(), config=session_conf)\n",
    "    tf.compat.v1.keras.backend.set_session(sess)"
   ]
  },
  {
   "cell_type": "code",
   "execution_count": 3,
   "metadata": {
    "_cell_guid": "79c7e3d0-c299-4dcb-8224-4455121ee9b0",
    "_uuid": "d629ff2d2480ee46fbb7e2d37f6b5fab8052498a"
   },
   "outputs": [
    {
     "data": {
      "text/html": [
       "<div>\n",
       "<style scoped>\n",
       "    .dataframe tbody tr th:only-of-type {\n",
       "        vertical-align: middle;\n",
       "    }\n",
       "\n",
       "    .dataframe tbody tr th {\n",
       "        vertical-align: top;\n",
       "    }\n",
       "\n",
       "    .dataframe thead th {\n",
       "        text-align: right;\n",
       "    }\n",
       "</style>\n",
       "<table border=\"1\" class=\"dataframe\">\n",
       "  <thead>\n",
       "    <tr style=\"text-align: right;\">\n",
       "      <th></th>\n",
       "      <th>ID</th>\n",
       "      <th>name</th>\n",
       "      <th>category</th>\n",
       "      <th>main_category</th>\n",
       "      <th>currency</th>\n",
       "      <th>deadline</th>\n",
       "      <th>goal</th>\n",
       "      <th>launched</th>\n",
       "      <th>pledged</th>\n",
       "      <th>state</th>\n",
       "      <th>backers</th>\n",
       "      <th>country</th>\n",
       "      <th>usd pledged</th>\n",
       "      <th>usd_pledged_real</th>\n",
       "      <th>usd_goal_real</th>\n",
       "    </tr>\n",
       "  </thead>\n",
       "  <tbody>\n",
       "    <tr>\n",
       "      <th>0</th>\n",
       "      <td>1000002330</td>\n",
       "      <td>The Songs of Adelaide &amp; Abullah</td>\n",
       "      <td>Poetry</td>\n",
       "      <td>Publishing</td>\n",
       "      <td>GBP</td>\n",
       "      <td>2015-10-09</td>\n",
       "      <td>1000.0</td>\n",
       "      <td>2015-08-11 12:12:28</td>\n",
       "      <td>0.0</td>\n",
       "      <td>failed</td>\n",
       "      <td>0</td>\n",
       "      <td>GB</td>\n",
       "      <td>0.0</td>\n",
       "      <td>0.0</td>\n",
       "      <td>1533.95</td>\n",
       "    </tr>\n",
       "    <tr>\n",
       "      <th>1</th>\n",
       "      <td>1000003930</td>\n",
       "      <td>Greeting From Earth: ZGAC Arts Capsule For ET</td>\n",
       "      <td>Narrative Film</td>\n",
       "      <td>Film &amp; Video</td>\n",
       "      <td>USD</td>\n",
       "      <td>2017-11-01</td>\n",
       "      <td>30000.0</td>\n",
       "      <td>2017-09-02 04:43:57</td>\n",
       "      <td>2421.0</td>\n",
       "      <td>failed</td>\n",
       "      <td>15</td>\n",
       "      <td>US</td>\n",
       "      <td>100.0</td>\n",
       "      <td>2421.0</td>\n",
       "      <td>30000.00</td>\n",
       "    </tr>\n",
       "    <tr>\n",
       "      <th>2</th>\n",
       "      <td>1000004038</td>\n",
       "      <td>Where is Hank?</td>\n",
       "      <td>Narrative Film</td>\n",
       "      <td>Film &amp; Video</td>\n",
       "      <td>USD</td>\n",
       "      <td>2013-02-26</td>\n",
       "      <td>45000.0</td>\n",
       "      <td>2013-01-12 00:20:50</td>\n",
       "      <td>220.0</td>\n",
       "      <td>failed</td>\n",
       "      <td>3</td>\n",
       "      <td>US</td>\n",
       "      <td>220.0</td>\n",
       "      <td>220.0</td>\n",
       "      <td>45000.00</td>\n",
       "    </tr>\n",
       "    <tr>\n",
       "      <th>3</th>\n",
       "      <td>1000007540</td>\n",
       "      <td>ToshiCapital Rekordz Needs Help to Complete Album</td>\n",
       "      <td>Music</td>\n",
       "      <td>Music</td>\n",
       "      <td>USD</td>\n",
       "      <td>2012-04-16</td>\n",
       "      <td>5000.0</td>\n",
       "      <td>2012-03-17 03:24:11</td>\n",
       "      <td>1.0</td>\n",
       "      <td>failed</td>\n",
       "      <td>1</td>\n",
       "      <td>US</td>\n",
       "      <td>1.0</td>\n",
       "      <td>1.0</td>\n",
       "      <td>5000.00</td>\n",
       "    </tr>\n",
       "    <tr>\n",
       "      <th>4</th>\n",
       "      <td>1000011046</td>\n",
       "      <td>Community Film Project: The Art of Neighborhoo...</td>\n",
       "      <td>Film &amp; Video</td>\n",
       "      <td>Film &amp; Video</td>\n",
       "      <td>USD</td>\n",
       "      <td>2015-08-29</td>\n",
       "      <td>19500.0</td>\n",
       "      <td>2015-07-04 08:35:03</td>\n",
       "      <td>1283.0</td>\n",
       "      <td>canceled</td>\n",
       "      <td>14</td>\n",
       "      <td>US</td>\n",
       "      <td>1283.0</td>\n",
       "      <td>1283.0</td>\n",
       "      <td>19500.00</td>\n",
       "    </tr>\n",
       "  </tbody>\n",
       "</table>\n",
       "</div>"
      ],
      "text/plain": [
       "           ID                                               name  \\\n",
       "0  1000002330                    The Songs of Adelaide & Abullah   \n",
       "1  1000003930      Greeting From Earth: ZGAC Arts Capsule For ET   \n",
       "2  1000004038                                     Where is Hank?   \n",
       "3  1000007540  ToshiCapital Rekordz Needs Help to Complete Album   \n",
       "4  1000011046  Community Film Project: The Art of Neighborhoo...   \n",
       "\n",
       "         category main_category currency   deadline     goal  \\\n",
       "0          Poetry    Publishing      GBP 2015-10-09   1000.0   \n",
       "1  Narrative Film  Film & Video      USD 2017-11-01  30000.0   \n",
       "2  Narrative Film  Film & Video      USD 2013-02-26  45000.0   \n",
       "3           Music         Music      USD 2012-04-16   5000.0   \n",
       "4    Film & Video  Film & Video      USD 2015-08-29  19500.0   \n",
       "\n",
       "             launched  pledged     state  backers country  usd pledged  \\\n",
       "0 2015-08-11 12:12:28      0.0    failed        0      GB          0.0   \n",
       "1 2017-09-02 04:43:57   2421.0    failed       15      US        100.0   \n",
       "2 2013-01-12 00:20:50    220.0    failed        3      US        220.0   \n",
       "3 2012-03-17 03:24:11      1.0    failed        1      US          1.0   \n",
       "4 2015-07-04 08:35:03   1283.0  canceled       14      US       1283.0   \n",
       "\n",
       "   usd_pledged_real  usd_goal_real  \n",
       "0               0.0        1533.95  \n",
       "1            2421.0       30000.00  \n",
       "2             220.0       45000.00  \n",
       "3               1.0        5000.00  \n",
       "4            1283.0       19500.00  "
      ]
     },
     "execution_count": 3,
     "metadata": {},
     "output_type": "execute_result"
    }
   ],
   "source": [
    "data = pd.read_csv('../input/kickstarter-projects/ks-projects-201801.csv')\n",
    "data['deadline'] = pd.to_datetime(data['deadline'])\n",
    "data['launched'] = pd.to_datetime(data['launched'])\n",
    "data.head()"
   ]
  },
  {
   "cell_type": "markdown",
   "metadata": {},
   "source": [
    "# 2. データセットの確認・処理"
   ]
  },
  {
   "cell_type": "code",
   "execution_count": 4,
   "metadata": {},
   "outputs": [
    {
     "data": {
      "text/plain": [
       "Index(['ID', 'name', 'category', 'main_category', 'currency', 'deadline',\n",
       "       'goal', 'launched', 'pledged', 'state', 'backers', 'country',\n",
       "       'usd pledged', 'usd_pledged_real', 'usd_goal_real'],\n",
       "      dtype='object')"
      ]
     },
     "execution_count": 4,
     "metadata": {},
     "output_type": "execute_result"
    }
   ],
   "source": [
    "data.columns"
   ]
  },
  {
   "cell_type": "markdown",
   "metadata": {},
   "source": [
    "## 2.1 各カラムの意味\n",
    "1.  ID              : internal kickstater id\n",
    "2.  name            : name of priject - A\n",
    "3.  category        : category\n",
    "4.  main_category   : category of campaign\n",
    "5.  currency        : currency used to support\n",
    "6.  deadline        : deadline for crowdfunding\n",
    "7.  goal            : goal amount in project currency\n",
    "8.  launched        : date launched\n",
    "9.  pledged         : pledged amount in project currency\n",
    "10. state           : current condition the project is in\n",
    "11. backers         : number of backers\n",
    "12. country         : country pledged from\n",
    "13. usd pledged     : pledged amount in USD conversion by kickstarter\n",
    "14. usd_pledged_real: pledged amount in USD conversion by Fixer.io API\n",
    "15. usd_goal_real   : goal amount in USD"
   ]
  },
  {
   "cell_type": "markdown",
   "metadata": {},
   "source": [
    "## 2.2 不要カラムの削除と理由\n",
    "* pledged系のカラム\n",
    " 1. pledged\n",
    " 2. usd pledged\n",
    " 3. usd_pledged_real  \n",
    " \n",
    "* backers\n",
    "\n",
    "クラウドファンディングのデータであることを考えるとstateを予測するにあたって、pledged及びbackersカラムは予め得ることのできないデータであるから。"
   ]
  },
  {
   "cell_type": "code",
   "execution_count": 5,
   "metadata": {},
   "outputs": [],
   "source": [
    "data.drop(['pledged', 'usd pledged', 'usd_pledged_real', 'backers'], axis=1, inplace=True)"
   ]
  },
  {
   "cell_type": "markdown",
   "metadata": {},
   "source": [
    "## 2.3 欠損値の確認と処理"
   ]
  },
  {
   "cell_type": "code",
   "execution_count": 6,
   "metadata": {},
   "outputs": [
    {
     "data": {
      "text/plain": [
       "ID               0\n",
       "name             4\n",
       "category         0\n",
       "main_category    0\n",
       "currency         0\n",
       "deadline         0\n",
       "goal             0\n",
       "launched         0\n",
       "state            0\n",
       "country          0\n",
       "usd_goal_real    0\n",
       "dtype: int64"
      ]
     },
     "execution_count": 6,
     "metadata": {},
     "output_type": "execute_result"
    }
   ],
   "source": [
    "data.isnull().sum()"
   ]
  },
  {
   "cell_type": "markdown",
   "metadata": {},
   "source": [
    "データセットのデータ量に対して欠損値を含むデータが非常に少ないので全部削除"
   ]
  },
  {
   "cell_type": "code",
   "execution_count": 7,
   "metadata": {},
   "outputs": [],
   "source": [
    "data = data.dropna()"
   ]
  },
  {
   "cell_type": "markdown",
   "metadata": {},
   "source": [
    "## 2.4 データの分析"
   ]
  },
  {
   "cell_type": "code",
   "execution_count": 8,
   "metadata": {},
   "outputs": [
    {
     "name": "stdout",
     "output_type": "stream",
     "text": [
      "<class 'pandas.core.frame.DataFrame'>\n",
      "Int64Index: 378657 entries, 0 to 378660\n",
      "Data columns (total 11 columns):\n",
      " #   Column         Non-Null Count   Dtype         \n",
      "---  ------         --------------   -----         \n",
      " 0   ID             378657 non-null  int64         \n",
      " 1   name           378657 non-null  object        \n",
      " 2   category       378657 non-null  object        \n",
      " 3   main_category  378657 non-null  object        \n",
      " 4   currency       378657 non-null  object        \n",
      " 5   deadline       378657 non-null  datetime64[ns]\n",
      " 6   goal           378657 non-null  float64       \n",
      " 7   launched       378657 non-null  datetime64[ns]\n",
      " 8   state          378657 non-null  object        \n",
      " 9   country        378657 non-null  object        \n",
      " 10  usd_goal_real  378657 non-null  float64       \n",
      "dtypes: datetime64[ns](2), float64(2), int64(1), object(6)\n",
      "memory usage: 34.7+ MB\n"
     ]
    }
   ],
   "source": [
    "data.info()"
   ]
  },
  {
   "cell_type": "code",
   "execution_count": 9,
   "metadata": {},
   "outputs": [
    {
     "data": {
      "text/html": [
       "<div>\n",
       "<style scoped>\n",
       "    .dataframe tbody tr th:only-of-type {\n",
       "        vertical-align: middle;\n",
       "    }\n",
       "\n",
       "    .dataframe tbody tr th {\n",
       "        vertical-align: top;\n",
       "    }\n",
       "\n",
       "    .dataframe thead th {\n",
       "        text-align: right;\n",
       "    }\n",
       "</style>\n",
       "<table border=\"1\" class=\"dataframe\">\n",
       "  <thead>\n",
       "    <tr style=\"text-align: right;\">\n",
       "      <th></th>\n",
       "      <th>ID</th>\n",
       "      <th>goal</th>\n",
       "      <th>usd_goal_real</th>\n",
       "    </tr>\n",
       "  </thead>\n",
       "  <tbody>\n",
       "    <tr>\n",
       "      <th>count</th>\n",
       "      <td>3.786570e+05</td>\n",
       "      <td>3.786570e+05</td>\n",
       "      <td>3.786570e+05</td>\n",
       "    </tr>\n",
       "    <tr>\n",
       "      <th>mean</th>\n",
       "      <td>1.074732e+09</td>\n",
       "      <td>4.908068e+04</td>\n",
       "      <td>4.545425e+04</td>\n",
       "    </tr>\n",
       "    <tr>\n",
       "      <th>std</th>\n",
       "      <td>6.190872e+08</td>\n",
       "      <td>1.183397e+06</td>\n",
       "      <td>1.152956e+06</td>\n",
       "    </tr>\n",
       "    <tr>\n",
       "      <th>min</th>\n",
       "      <td>5.971000e+03</td>\n",
       "      <td>1.000000e-02</td>\n",
       "      <td>1.000000e-02</td>\n",
       "    </tr>\n",
       "    <tr>\n",
       "      <th>25%</th>\n",
       "      <td>5.382499e+08</td>\n",
       "      <td>2.000000e+03</td>\n",
       "      <td>2.000000e+03</td>\n",
       "    </tr>\n",
       "    <tr>\n",
       "      <th>50%</th>\n",
       "      <td>1.075276e+09</td>\n",
       "      <td>5.200000e+03</td>\n",
       "      <td>5.500000e+03</td>\n",
       "    </tr>\n",
       "    <tr>\n",
       "      <th>75%</th>\n",
       "      <td>1.610149e+09</td>\n",
       "      <td>1.600000e+04</td>\n",
       "      <td>1.550000e+04</td>\n",
       "    </tr>\n",
       "    <tr>\n",
       "      <th>max</th>\n",
       "      <td>2.147476e+09</td>\n",
       "      <td>1.000000e+08</td>\n",
       "      <td>1.663614e+08</td>\n",
       "    </tr>\n",
       "  </tbody>\n",
       "</table>\n",
       "</div>"
      ],
      "text/plain": [
       "                 ID          goal  usd_goal_real\n",
       "count  3.786570e+05  3.786570e+05   3.786570e+05\n",
       "mean   1.074732e+09  4.908068e+04   4.545425e+04\n",
       "std    6.190872e+08  1.183397e+06   1.152956e+06\n",
       "min    5.971000e+03  1.000000e-02   1.000000e-02\n",
       "25%    5.382499e+08  2.000000e+03   2.000000e+03\n",
       "50%    1.075276e+09  5.200000e+03   5.500000e+03\n",
       "75%    1.610149e+09  1.600000e+04   1.550000e+04\n",
       "max    2.147476e+09  1.000000e+08   1.663614e+08"
      ]
     },
     "execution_count": 9,
     "metadata": {},
     "output_type": "execute_result"
    }
   ],
   "source": [
    "data.describe()"
   ]
  },
  {
   "cell_type": "markdown",
   "metadata": {},
   "source": [
    "数値データの相関プロット"
   ]
  },
  {
   "cell_type": "code",
   "execution_count": 10,
   "metadata": {},
   "outputs": [
    {
     "data": {
      "text/plain": [
       "<AxesSubplot:>"
      ]
     },
     "execution_count": 10,
     "metadata": {},
     "output_type": "execute_result"
    },
    {
     "data": {
      "image/png": "[encoded data removed]",
      "text/plain": [
       "<Figure size 432x288 with 2 Axes>"
      ]
     },
     "metadata": {
      "needs_background": "light"
     },
     "output_type": "display_data"
    }
   ],
   "source": [
    "sns.heatmap(data.drop('ID', axis=1).corr())"
   ]
  },
  {
   "cell_type": "code",
   "execution_count": 11,
   "metadata": {},
   "outputs": [
    {
     "name": "stdout",
     "output_type": "stream",
     "text": [
      "data shape: (378657, 11)\n",
      "name number of uniques: 375764\n",
      "category number of uniques: 159\n",
      "main_category number of uniques: 15\n",
      "currency number of uniques: 14\n",
      "state number of uniques: 6\n",
      "country number of uniques: 23\n"
     ]
    }
   ],
   "source": [
    "print(f'data shape: {data.shape}')\n",
    "for col in data.columns:\n",
    "    if data[col].dtype == 'object':\n",
    "        print(f'{col} number of uniques: {data[col].nunique()}')"
   ]
  },
  {
   "cell_type": "markdown",
   "metadata": {},
   "source": [
    "カラム内ユニークラベルの意味から、以下のラベルを持つデータを削除。successful or not successful(failed/canceled)を予測する\n",
    "* live (今アクティブなクラウドファンディング)\n",
    "* suspended (停止中：まだ終わってない)\n",
    "* undefined (未定義?)"
   ]
  },
  {
   "cell_type": "code",
   "execution_count": 12,
   "metadata": {},
   "outputs": [],
   "source": [
    "data = data[(data.state!='live') & (data.state!='undefined') & (data.state!='suspended')].reset_index(drop=True)"
   ]
  },
  {
   "cell_type": "code",
   "execution_count": 13,
   "metadata": {},
   "outputs": [
    {
     "data": {
      "text/plain": [
       "(array([197716.,      0.,      0.,      0.,      0.,  38779.,      0.,\n",
       "             0.,      0., 133956.]),\n",
       " array([0. , 0.2, 0.4, 0.6, 0.8, 1. , 1.2, 1.4, 1.6, 1.8, 2. ]),\n",
       " <BarContainer object of 10 artists>)"
      ]
     },
     "execution_count": 13,
     "metadata": {},
     "output_type": "execute_result"
    },
    {
     "data": {
      "image/png": "[encoded data removed]",
      "text/plain": [
       "<Figure size 432x288 with 1 Axes>"
      ]
     },
     "metadata": {
      "needs_background": "light"
     },
     "output_type": "display_data"
    }
   ],
   "source": [
    "plt.hist(data.state)"
   ]
  },
  {
   "cell_type": "markdown",
   "metadata": {},
   "source": [
    "### 2.4.1 nameカラム"
   ]
  },
  {
   "cell_type": "code",
   "execution_count": 14,
   "metadata": {},
   "outputs": [
    {
     "data": {
      "text/plain": [
       "array(['The Songs of Adelaide & Abullah',\n",
       "       'Greeting From Earth: ZGAC Arts Capsule For ET', 'Where is Hank?',\n",
       "       ...,\n",
       "       'Walls of Remedy- New lesbian Romantic Comedy feature unlike any other!!',\n",
       "       'BioDefense Education Kit', 'Nou Renmen Ayiti!  We Love Haiti!'],\n",
       "      dtype=object)"
      ]
     },
     "execution_count": 14,
     "metadata": {},
     "output_type": "execute_result"
    }
   ],
   "source": [
    "data.name.unique()"
   ]
  },
  {
   "cell_type": "code",
   "execution_count": 15,
   "metadata": {},
   "outputs": [
    {
     "data": {
      "text/html": [
       "<div>\n",
       "<style scoped>\n",
       "    .dataframe tbody tr th:only-of-type {\n",
       "        vertical-align: middle;\n",
       "    }\n",
       "\n",
       "    .dataframe tbody tr th {\n",
       "        vertical-align: top;\n",
       "    }\n",
       "\n",
       "    .dataframe thead th {\n",
       "        text-align: right;\n",
       "    }\n",
       "</style>\n",
       "<table border=\"1\" class=\"dataframe\">\n",
       "  <thead>\n",
       "    <tr style=\"text-align: right;\">\n",
       "      <th></th>\n",
       "      <th>ID</th>\n",
       "      <th>name</th>\n",
       "      <th>category</th>\n",
       "      <th>main_category</th>\n",
       "      <th>currency</th>\n",
       "      <th>deadline</th>\n",
       "      <th>goal</th>\n",
       "      <th>launched</th>\n",
       "      <th>state</th>\n",
       "      <th>country</th>\n",
       "      <th>usd_goal_real</th>\n",
       "    </tr>\n",
       "  </thead>\n",
       "  <tbody>\n",
       "    <tr>\n",
       "      <th>6240</th>\n",
       "      <td>1032645935</td>\n",
       "      <td>Cancelled (Canceled)</td>\n",
       "      <td>Design</td>\n",
       "      <td>Design</td>\n",
       "      <td>USD</td>\n",
       "      <td>2015-06-05</td>\n",
       "      <td>100000.0</td>\n",
       "      <td>2015-05-06 12:29:08</td>\n",
       "      <td>canceled</td>\n",
       "      <td>US</td>\n",
       "      <td>100000.00</td>\n",
       "    </tr>\n",
       "    <tr>\n",
       "      <th>8175</th>\n",
       "      <td>1042208764</td>\n",
       "      <td>The Basement</td>\n",
       "      <td>Horror</td>\n",
       "      <td>Film &amp; Video</td>\n",
       "      <td>USD</td>\n",
       "      <td>2015-05-07</td>\n",
       "      <td>12000.0</td>\n",
       "      <td>2015-04-07 18:24:19</td>\n",
       "      <td>successful</td>\n",
       "      <td>US</td>\n",
       "      <td>12000.00</td>\n",
       "    </tr>\n",
       "    <tr>\n",
       "      <th>8265</th>\n",
       "      <td>1042642941</td>\n",
       "      <td>The Gift</td>\n",
       "      <td>Film &amp; Video</td>\n",
       "      <td>Film &amp; Video</td>\n",
       "      <td>USD</td>\n",
       "      <td>2013-05-08</td>\n",
       "      <td>3000.0</td>\n",
       "      <td>2013-04-17 01:55:27</td>\n",
       "      <td>successful</td>\n",
       "      <td>US</td>\n",
       "      <td>3000.00</td>\n",
       "    </tr>\n",
       "    <tr>\n",
       "      <th>8572</th>\n",
       "      <td>1044230780</td>\n",
       "      <td>Redemption</td>\n",
       "      <td>Narrative Film</td>\n",
       "      <td>Film &amp; Video</td>\n",
       "      <td>USD</td>\n",
       "      <td>2012-08-25</td>\n",
       "      <td>11000.0</td>\n",
       "      <td>2012-06-26 19:13:21</td>\n",
       "      <td>successful</td>\n",
       "      <td>US</td>\n",
       "      <td>11000.00</td>\n",
       "    </tr>\n",
       "    <tr>\n",
       "      <th>9081</th>\n",
       "      <td>1046840222</td>\n",
       "      <td>Quick Quests: TCG</td>\n",
       "      <td>Tabletop Games</td>\n",
       "      <td>Games</td>\n",
       "      <td>USD</td>\n",
       "      <td>2016-09-01</td>\n",
       "      <td>1000.0</td>\n",
       "      <td>2016-08-20 03:31:20</td>\n",
       "      <td>failed</td>\n",
       "      <td>US</td>\n",
       "      <td>1000.00</td>\n",
       "    </tr>\n",
       "    <tr>\n",
       "      <th>...</th>\n",
       "      <td>...</td>\n",
       "      <td>...</td>\n",
       "      <td>...</td>\n",
       "      <td>...</td>\n",
       "      <td>...</td>\n",
       "      <td>...</td>\n",
       "      <td>...</td>\n",
       "      <td>...</td>\n",
       "      <td>...</td>\n",
       "      <td>...</td>\n",
       "      <td>...</td>\n",
       "    </tr>\n",
       "    <tr>\n",
       "      <th>369944</th>\n",
       "      <td>997542782</td>\n",
       "      <td>Innocent Sin</td>\n",
       "      <td>Indie Rock</td>\n",
       "      <td>Music</td>\n",
       "      <td>USD</td>\n",
       "      <td>2015-01-25</td>\n",
       "      <td>300.0</td>\n",
       "      <td>2014-12-26 18:04:28</td>\n",
       "      <td>successful</td>\n",
       "      <td>US</td>\n",
       "      <td>300.00</td>\n",
       "    </tr>\n",
       "    <tr>\n",
       "      <th>370025</th>\n",
       "      <td>997919903</td>\n",
       "      <td>Grassroots</td>\n",
       "      <td>Publishing</td>\n",
       "      <td>Publishing</td>\n",
       "      <td>EUR</td>\n",
       "      <td>2017-09-14</td>\n",
       "      <td>10000.0</td>\n",
       "      <td>2017-08-15 18:36:18</td>\n",
       "      <td>failed</td>\n",
       "      <td>IE</td>\n",
       "      <td>11963.01</td>\n",
       "    </tr>\n",
       "    <tr>\n",
       "      <th>370224</th>\n",
       "      <td>998836498</td>\n",
       "      <td>The InAction</td>\n",
       "      <td>Camera Equipment</td>\n",
       "      <td>Technology</td>\n",
       "      <td>USD</td>\n",
       "      <td>2016-07-29</td>\n",
       "      <td>80000.0</td>\n",
       "      <td>2016-06-28 04:00:08</td>\n",
       "      <td>canceled</td>\n",
       "      <td>US</td>\n",
       "      <td>80000.00</td>\n",
       "    </tr>\n",
       "    <tr>\n",
       "      <th>370271</th>\n",
       "      <td>999055513</td>\n",
       "      <td>The Last Hurrah</td>\n",
       "      <td>Rock</td>\n",
       "      <td>Music</td>\n",
       "      <td>USD</td>\n",
       "      <td>2012-06-03</td>\n",
       "      <td>5500.0</td>\n",
       "      <td>2012-05-04 15:20:41</td>\n",
       "      <td>successful</td>\n",
       "      <td>US</td>\n",
       "      <td>5500.00</td>\n",
       "    </tr>\n",
       "    <tr>\n",
       "      <th>370340</th>\n",
       "      <td>999410766</td>\n",
       "      <td>Guilt</td>\n",
       "      <td>Shorts</td>\n",
       "      <td>Film &amp; Video</td>\n",
       "      <td>USD</td>\n",
       "      <td>2014-05-16</td>\n",
       "      <td>65000.0</td>\n",
       "      <td>2014-04-16 17:45:46</td>\n",
       "      <td>failed</td>\n",
       "      <td>US</td>\n",
       "      <td>65000.00</td>\n",
       "    </tr>\n",
       "  </tbody>\n",
       "</table>\n",
       "<p>2751 rows × 11 columns</p>\n",
       "</div>"
      ],
      "text/plain": [
       "                ID                  name          category main_category  \\\n",
       "6240    1032645935  Cancelled (Canceled)            Design        Design   \n",
       "8175    1042208764          The Basement            Horror  Film & Video   \n",
       "8265    1042642941              The Gift      Film & Video  Film & Video   \n",
       "8572    1044230780            Redemption    Narrative Film  Film & Video   \n",
       "9081    1046840222     Quick Quests: TCG    Tabletop Games         Games   \n",
       "...            ...                   ...               ...           ...   \n",
       "369944   997542782          Innocent Sin        Indie Rock         Music   \n",
       "370025   997919903            Grassroots        Publishing    Publishing   \n",
       "370224   998836498          The InAction  Camera Equipment    Technology   \n",
       "370271   999055513       The Last Hurrah              Rock         Music   \n",
       "370340   999410766                 Guilt            Shorts  Film & Video   \n",
       "\n",
       "       currency   deadline      goal            launched       state country  \\\n",
       "6240        USD 2015-06-05  100000.0 2015-05-06 12:29:08    canceled      US   \n",
       "8175        USD 2015-05-07   12000.0 2015-04-07 18:24:19  successful      US   \n",
       "8265        USD 2013-05-08    3000.0 2013-04-17 01:55:27  successful      US   \n",
       "8572        USD 2012-08-25   11000.0 2012-06-26 19:13:21  successful      US   \n",
       "9081        USD 2016-09-01    1000.0 2016-08-20 03:31:20      failed      US   \n",
       "...         ...        ...       ...                 ...         ...     ...   \n",
       "369944      USD 2015-01-25     300.0 2014-12-26 18:04:28  successful      US   \n",
       "370025      EUR 2017-09-14   10000.0 2017-08-15 18:36:18      failed      IE   \n",
       "370224      USD 2016-07-29   80000.0 2016-06-28 04:00:08    canceled      US   \n",
       "370271      USD 2012-06-03    5500.0 2012-05-04 15:20:41  successful      US   \n",
       "370340      USD 2014-05-16   65000.0 2014-04-16 17:45:46      failed      US   \n",
       "\n",
       "        usd_goal_real  \n",
       "6240        100000.00  \n",
       "8175         12000.00  \n",
       "8265          3000.00  \n",
       "8572         11000.00  \n",
       "9081          1000.00  \n",
       "...               ...  \n",
       "369944         300.00  \n",
       "370025       11963.01  \n",
       "370224       80000.00  \n",
       "370271        5500.00  \n",
       "370340       65000.00  \n",
       "\n",
       "[2751 rows x 11 columns]"
      ]
     },
     "execution_count": 15,
     "metadata": {},
     "output_type": "execute_result"
    }
   ],
   "source": [
    "# 2765組の重複したプロジェクト名がある\n",
    "data[data.duplicated(subset=['name'], keep='first')]"
   ]
  },
  {
   "cell_type": "code",
   "execution_count": 16,
   "metadata": {},
   "outputs": [
    {
     "data": {
      "text/html": [
       "<div>\n",
       "<style scoped>\n",
       "    .dataframe tbody tr th:only-of-type {\n",
       "        vertical-align: middle;\n",
       "    }\n",
       "\n",
       "    .dataframe tbody tr th {\n",
       "        vertical-align: top;\n",
       "    }\n",
       "\n",
       "    .dataframe thead th {\n",
       "        text-align: right;\n",
       "    }\n",
       "</style>\n",
       "<table border=\"1\" class=\"dataframe\">\n",
       "  <thead>\n",
       "    <tr style=\"text-align: right;\">\n",
       "      <th></th>\n",
       "      <th>ID</th>\n",
       "      <th>name</th>\n",
       "      <th>category</th>\n",
       "      <th>main_category</th>\n",
       "      <th>currency</th>\n",
       "      <th>deadline</th>\n",
       "      <th>goal</th>\n",
       "      <th>launched</th>\n",
       "      <th>state</th>\n",
       "      <th>country</th>\n",
       "      <th>usd_goal_real</th>\n",
       "    </tr>\n",
       "  </thead>\n",
       "  <tbody>\n",
       "    <tr>\n",
       "      <th>121700</th>\n",
       "      <td>1631430549</td>\n",
       "      <td>Romeo &amp; Juliet</td>\n",
       "      <td>Plays</td>\n",
       "      <td>Theater</td>\n",
       "      <td>USD</td>\n",
       "      <td>2015-03-21</td>\n",
       "      <td>1500.0</td>\n",
       "      <td>2015-02-19 21:22:38</td>\n",
       "      <td>successful</td>\n",
       "      <td>US</td>\n",
       "      <td>1500.00</td>\n",
       "    </tr>\n",
       "    <tr>\n",
       "      <th>186945</th>\n",
       "      <td>1972361772</td>\n",
       "      <td>Romeo &amp; Juliet</td>\n",
       "      <td>Immersive</td>\n",
       "      <td>Theater</td>\n",
       "      <td>GBP</td>\n",
       "      <td>2015-06-01</td>\n",
       "      <td>5000.0</td>\n",
       "      <td>2015-05-01 14:15:19</td>\n",
       "      <td>failed</td>\n",
       "      <td>GB</td>\n",
       "      <td>7665.65</td>\n",
       "    </tr>\n",
       "    <tr>\n",
       "      <th>243372</th>\n",
       "      <td>334932599</td>\n",
       "      <td>Romeo &amp; Juliet</td>\n",
       "      <td>Theater</td>\n",
       "      <td>Theater</td>\n",
       "      <td>USD</td>\n",
       "      <td>2012-03-12</td>\n",
       "      <td>5000.0</td>\n",
       "      <td>2012-02-11 05:08:41</td>\n",
       "      <td>failed</td>\n",
       "      <td>US</td>\n",
       "      <td>5000.00</td>\n",
       "    </tr>\n",
       "    <tr>\n",
       "      <th>311692</th>\n",
       "      <td>69260412</td>\n",
       "      <td>Romeo &amp; Juliet</td>\n",
       "      <td>Theater</td>\n",
       "      <td>Theater</td>\n",
       "      <td>USD</td>\n",
       "      <td>2011-08-16</td>\n",
       "      <td>2000.0</td>\n",
       "      <td>2011-07-09 18:43:41</td>\n",
       "      <td>failed</td>\n",
       "      <td>US</td>\n",
       "      <td>2000.00</td>\n",
       "    </tr>\n",
       "    <tr>\n",
       "      <th>348797</th>\n",
       "      <td>885939116</td>\n",
       "      <td>Romeo &amp; Juliet</td>\n",
       "      <td>Immersive</td>\n",
       "      <td>Theater</td>\n",
       "      <td>CAD</td>\n",
       "      <td>2017-10-02</td>\n",
       "      <td>3000.0</td>\n",
       "      <td>2017-09-12 05:53:52</td>\n",
       "      <td>successful</td>\n",
       "      <td>CA</td>\n",
       "      <td>2385.69</td>\n",
       "    </tr>\n",
       "    <tr>\n",
       "      <th>369654</th>\n",
       "      <td>99598621</td>\n",
       "      <td>Romeo &amp; Juliet</td>\n",
       "      <td>Plays</td>\n",
       "      <td>Theater</td>\n",
       "      <td>USD</td>\n",
       "      <td>2017-09-18</td>\n",
       "      <td>3000.0</td>\n",
       "      <td>2017-08-31 16:02:20</td>\n",
       "      <td>successful</td>\n",
       "      <td>US</td>\n",
       "      <td>3000.00</td>\n",
       "    </tr>\n",
       "  </tbody>\n",
       "</table>\n",
       "</div>"
      ],
      "text/plain": [
       "                ID            name   category main_category currency  \\\n",
       "121700  1631430549  Romeo & Juliet      Plays       Theater      USD   \n",
       "186945  1972361772  Romeo & Juliet  Immersive       Theater      GBP   \n",
       "243372   334932599  Romeo & Juliet    Theater       Theater      USD   \n",
       "311692    69260412  Romeo & Juliet    Theater       Theater      USD   \n",
       "348797   885939116  Romeo & Juliet  Immersive       Theater      CAD   \n",
       "369654    99598621  Romeo & Juliet      Plays       Theater      USD   \n",
       "\n",
       "         deadline    goal            launched       state country  \\\n",
       "121700 2015-03-21  1500.0 2015-02-19 21:22:38  successful      US   \n",
       "186945 2015-06-01  5000.0 2015-05-01 14:15:19      failed      GB   \n",
       "243372 2012-03-12  5000.0 2012-02-11 05:08:41      failed      US   \n",
       "311692 2011-08-16  2000.0 2011-07-09 18:43:41      failed      US   \n",
       "348797 2017-10-02  3000.0 2017-09-12 05:53:52  successful      CA   \n",
       "369654 2017-09-18  3000.0 2017-08-31 16:02:20  successful      US   \n",
       "\n",
       "        usd_goal_real  \n",
       "121700        1500.00  \n",
       "186945        7665.65  \n",
       "243372        5000.00  \n",
       "311692        2000.00  \n",
       "348797        2385.69  \n",
       "369654        3000.00  "
      ]
     },
     "execution_count": 16,
     "metadata": {},
     "output_type": "execute_result"
    }
   ],
   "source": [
    "data[data.name=='Romeo & Juliet']"
   ]
  },
  {
   "cell_type": "code",
   "execution_count": 17,
   "metadata": {},
   "outputs": [
    {
     "data": {
      "text/html": [
       "<div>\n",
       "<style scoped>\n",
       "    .dataframe tbody tr th:only-of-type {\n",
       "        vertical-align: middle;\n",
       "    }\n",
       "\n",
       "    .dataframe tbody tr th {\n",
       "        vertical-align: top;\n",
       "    }\n",
       "\n",
       "    .dataframe thead th {\n",
       "        text-align: right;\n",
       "    }\n",
       "</style>\n",
       "<table border=\"1\" class=\"dataframe\">\n",
       "  <thead>\n",
       "    <tr style=\"text-align: right;\">\n",
       "      <th></th>\n",
       "      <th>ID</th>\n",
       "      <th>name</th>\n",
       "      <th>category</th>\n",
       "      <th>main_category</th>\n",
       "      <th>currency</th>\n",
       "      <th>deadline</th>\n",
       "      <th>goal</th>\n",
       "      <th>launched</th>\n",
       "      <th>state</th>\n",
       "      <th>country</th>\n",
       "      <th>usd_goal_real</th>\n",
       "    </tr>\n",
       "  </thead>\n",
       "  <tbody>\n",
       "    <tr>\n",
       "      <th>12643</th>\n",
       "      <td>1064894138</td>\n",
       "      <td>Homemade Pizza</td>\n",
       "      <td>Food</td>\n",
       "      <td>Food</td>\n",
       "      <td>GBP</td>\n",
       "      <td>2015-12-19</td>\n",
       "      <td>20.0</td>\n",
       "      <td>2015-11-19 18:20:53</td>\n",
       "      <td>failed</td>\n",
       "      <td>GB</td>\n",
       "      <td>29.82</td>\n",
       "    </tr>\n",
       "    <tr>\n",
       "      <th>36055</th>\n",
       "      <td>1186882427</td>\n",
       "      <td>Homemade Pizza</td>\n",
       "      <td>Food</td>\n",
       "      <td>Food</td>\n",
       "      <td>USD</td>\n",
       "      <td>2014-08-10</td>\n",
       "      <td>10.0</td>\n",
       "      <td>2014-07-11 18:48:41</td>\n",
       "      <td>failed</td>\n",
       "      <td>US</td>\n",
       "      <td>10.00</td>\n",
       "    </tr>\n",
       "    <tr>\n",
       "      <th>152029</th>\n",
       "      <td>1790139635</td>\n",
       "      <td>Homemade Pizza</td>\n",
       "      <td>Food</td>\n",
       "      <td>Food</td>\n",
       "      <td>GBP</td>\n",
       "      <td>2014-10-26</td>\n",
       "      <td>30.0</td>\n",
       "      <td>2014-09-26 13:34:29</td>\n",
       "      <td>failed</td>\n",
       "      <td>GB</td>\n",
       "      <td>47.91</td>\n",
       "    </tr>\n",
       "    <tr>\n",
       "      <th>292102</th>\n",
       "      <td>590140908</td>\n",
       "      <td>Homemade Pizza</td>\n",
       "      <td>Bacon</td>\n",
       "      <td>Food</td>\n",
       "      <td>SEK</td>\n",
       "      <td>2014-11-21</td>\n",
       "      <td>450.0</td>\n",
       "      <td>2014-10-22 21:41:11</td>\n",
       "      <td>failed</td>\n",
       "      <td>SE</td>\n",
       "      <td>60.57</td>\n",
       "    </tr>\n",
       "    <tr>\n",
       "      <th>349603</th>\n",
       "      <td>890261459</td>\n",
       "      <td>Homemade Pizza</td>\n",
       "      <td>Food</td>\n",
       "      <td>Food</td>\n",
       "      <td>USD</td>\n",
       "      <td>2014-08-10</td>\n",
       "      <td>20.0</td>\n",
       "      <td>2014-07-11 19:28:12</td>\n",
       "      <td>failed</td>\n",
       "      <td>US</td>\n",
       "      <td>20.00</td>\n",
       "    </tr>\n",
       "  </tbody>\n",
       "</table>\n",
       "</div>"
      ],
      "text/plain": [
       "                ID            name category main_category currency   deadline  \\\n",
       "12643   1064894138  Homemade Pizza     Food          Food      GBP 2015-12-19   \n",
       "36055   1186882427  Homemade Pizza     Food          Food      USD 2014-08-10   \n",
       "152029  1790139635  Homemade Pizza     Food          Food      GBP 2014-10-26   \n",
       "292102   590140908  Homemade Pizza    Bacon          Food      SEK 2014-11-21   \n",
       "349603   890261459  Homemade Pizza     Food          Food      USD 2014-08-10   \n",
       "\n",
       "         goal            launched   state country  usd_goal_real  \n",
       "12643    20.0 2015-11-19 18:20:53  failed      GB          29.82  \n",
       "36055    10.0 2014-07-11 18:48:41  failed      US          10.00  \n",
       "152029   30.0 2014-09-26 13:34:29  failed      GB          47.91  \n",
       "292102  450.0 2014-10-22 21:41:11  failed      SE          60.57  \n",
       "349603   20.0 2014-07-11 19:28:12  failed      US          20.00  "
      ]
     },
     "execution_count": 17,
     "metadata": {},
     "output_type": "execute_result"
    }
   ],
   "source": [
    "data[data.name=='Homemade Pizza']"
   ]
  },
  {
   "cell_type": "code",
   "execution_count": 18,
   "metadata": {},
   "outputs": [
    {
     "data": {
      "text/html": [
       "<div>\n",
       "<style scoped>\n",
       "    .dataframe tbody tr th:only-of-type {\n",
       "        vertical-align: middle;\n",
       "    }\n",
       "\n",
       "    .dataframe tbody tr th {\n",
       "        vertical-align: top;\n",
       "    }\n",
       "\n",
       "    .dataframe thead th {\n",
       "        text-align: right;\n",
       "    }\n",
       "</style>\n",
       "<table border=\"1\" class=\"dataframe\">\n",
       "  <thead>\n",
       "    <tr style=\"text-align: right;\">\n",
       "      <th></th>\n",
       "      <th>ID</th>\n",
       "      <th>name</th>\n",
       "      <th>category</th>\n",
       "      <th>main_category</th>\n",
       "      <th>currency</th>\n",
       "      <th>deadline</th>\n",
       "      <th>goal</th>\n",
       "      <th>launched</th>\n",
       "      <th>state</th>\n",
       "      <th>country</th>\n",
       "      <th>usd_goal_real</th>\n",
       "    </tr>\n",
       "  </thead>\n",
       "  <tbody>\n",
       "    <tr>\n",
       "      <th>14486</th>\n",
       "      <td>1074565725</td>\n",
       "      <td>The Pitch</td>\n",
       "      <td>Shorts</td>\n",
       "      <td>Film &amp; Video</td>\n",
       "      <td>GBP</td>\n",
       "      <td>2016-11-11</td>\n",
       "      <td>7000.0</td>\n",
       "      <td>2016-10-12 13:05:01</td>\n",
       "      <td>failed</td>\n",
       "      <td>GB</td>\n",
       "      <td>8861.66</td>\n",
       "    </tr>\n",
       "    <tr>\n",
       "      <th>17546</th>\n",
       "      <td>1091088385</td>\n",
       "      <td>The Pitch</td>\n",
       "      <td>Shorts</td>\n",
       "      <td>Film &amp; Video</td>\n",
       "      <td>USD</td>\n",
       "      <td>2011-11-03</td>\n",
       "      <td>11000.0</td>\n",
       "      <td>2011-09-04 06:28:11</td>\n",
       "      <td>failed</td>\n",
       "      <td>US</td>\n",
       "      <td>11000.00</td>\n",
       "    </tr>\n",
       "    <tr>\n",
       "      <th>228167</th>\n",
       "      <td>255297628</td>\n",
       "      <td>The Pitch</td>\n",
       "      <td>Experimental</td>\n",
       "      <td>Film &amp; Video</td>\n",
       "      <td>USD</td>\n",
       "      <td>2017-02-28</td>\n",
       "      <td>2500.0</td>\n",
       "      <td>2017-02-08 22:47:09</td>\n",
       "      <td>successful</td>\n",
       "      <td>US</td>\n",
       "      <td>2500.00</td>\n",
       "    </tr>\n",
       "  </tbody>\n",
       "</table>\n",
       "</div>"
      ],
      "text/plain": [
       "                ID       name      category main_category currency   deadline  \\\n",
       "14486   1074565725  The Pitch        Shorts  Film & Video      GBP 2016-11-11   \n",
       "17546   1091088385  The Pitch        Shorts  Film & Video      USD 2011-11-03   \n",
       "228167   255297628  The Pitch  Experimental  Film & Video      USD 2017-02-28   \n",
       "\n",
       "           goal            launched       state country  usd_goal_real  \n",
       "14486    7000.0 2016-10-12 13:05:01      failed      GB        8861.66  \n",
       "17546   11000.0 2011-09-04 06:28:11      failed      US       11000.00  \n",
       "228167   2500.0 2017-02-08 22:47:09  successful      US        2500.00  "
      ]
     },
     "execution_count": 18,
     "metadata": {},
     "output_type": "execute_result"
    }
   ],
   "source": [
    "data[data.name=='The Pitch']"
   ]
  },
  {
   "cell_type": "code",
   "execution_count": 19,
   "metadata": {},
   "outputs": [
    {
     "data": {
      "text/html": [
       "<div>\n",
       "<style scoped>\n",
       "    .dataframe tbody tr th:only-of-type {\n",
       "        vertical-align: middle;\n",
       "    }\n",
       "\n",
       "    .dataframe tbody tr th {\n",
       "        vertical-align: top;\n",
       "    }\n",
       "\n",
       "    .dataframe thead th {\n",
       "        text-align: right;\n",
       "    }\n",
       "</style>\n",
       "<table border=\"1\" class=\"dataframe\">\n",
       "  <thead>\n",
       "    <tr style=\"text-align: right;\">\n",
       "      <th></th>\n",
       "      <th>ID</th>\n",
       "      <th>name</th>\n",
       "      <th>category</th>\n",
       "      <th>main_category</th>\n",
       "      <th>currency</th>\n",
       "      <th>deadline</th>\n",
       "      <th>goal</th>\n",
       "      <th>launched</th>\n",
       "      <th>state</th>\n",
       "      <th>country</th>\n",
       "      <th>usd_goal_real</th>\n",
       "    </tr>\n",
       "  </thead>\n",
       "  <tbody>\n",
       "    <tr>\n",
       "      <th>4899</th>\n",
       "      <td>1025568649</td>\n",
       "      <td>The Gift</td>\n",
       "      <td>Shorts</td>\n",
       "      <td>Film &amp; Video</td>\n",
       "      <td>USD</td>\n",
       "      <td>2014-05-10</td>\n",
       "      <td>4500.0</td>\n",
       "      <td>2014-04-29 03:14:49</td>\n",
       "      <td>successful</td>\n",
       "      <td>US</td>\n",
       "      <td>4500.0</td>\n",
       "    </tr>\n",
       "    <tr>\n",
       "      <th>8265</th>\n",
       "      <td>1042642941</td>\n",
       "      <td>The Gift</td>\n",
       "      <td>Film &amp; Video</td>\n",
       "      <td>Film &amp; Video</td>\n",
       "      <td>USD</td>\n",
       "      <td>2013-05-08</td>\n",
       "      <td>3000.0</td>\n",
       "      <td>2013-04-17 01:55:27</td>\n",
       "      <td>successful</td>\n",
       "      <td>US</td>\n",
       "      <td>3000.0</td>\n",
       "    </tr>\n",
       "    <tr>\n",
       "      <th>75820</th>\n",
       "      <td>1394078347</td>\n",
       "      <td>The Gift</td>\n",
       "      <td>Shorts</td>\n",
       "      <td>Film &amp; Video</td>\n",
       "      <td>USD</td>\n",
       "      <td>2011-04-09</td>\n",
       "      <td>1500.0</td>\n",
       "      <td>2011-03-09 00:15:36</td>\n",
       "      <td>failed</td>\n",
       "      <td>US</td>\n",
       "      <td>1500.0</td>\n",
       "    </tr>\n",
       "    <tr>\n",
       "      <th>132233</th>\n",
       "      <td>168615922</td>\n",
       "      <td>The Gift</td>\n",
       "      <td>Shorts</td>\n",
       "      <td>Film &amp; Video</td>\n",
       "      <td>USD</td>\n",
       "      <td>2011-12-31</td>\n",
       "      <td>10000.0</td>\n",
       "      <td>2011-11-01 02:28:03</td>\n",
       "      <td>failed</td>\n",
       "      <td>US</td>\n",
       "      <td>10000.0</td>\n",
       "    </tr>\n",
       "  </tbody>\n",
       "</table>\n",
       "</div>"
      ],
      "text/plain": [
       "                ID      name      category main_category currency   deadline  \\\n",
       "4899    1025568649  The Gift        Shorts  Film & Video      USD 2014-05-10   \n",
       "8265    1042642941  The Gift  Film & Video  Film & Video      USD 2013-05-08   \n",
       "75820   1394078347  The Gift        Shorts  Film & Video      USD 2011-04-09   \n",
       "132233   168615922  The Gift        Shorts  Film & Video      USD 2011-12-31   \n",
       "\n",
       "           goal            launched       state country  usd_goal_real  \n",
       "4899     4500.0 2014-04-29 03:14:49  successful      US         4500.0  \n",
       "8265     3000.0 2013-04-17 01:55:27  successful      US         3000.0  \n",
       "75820    1500.0 2011-03-09 00:15:36      failed      US         1500.0  \n",
       "132233  10000.0 2011-11-01 02:28:03      failed      US        10000.0  "
      ]
     },
     "execution_count": 19,
     "metadata": {},
     "output_type": "execute_result"
    }
   ],
   "source": [
    "data[data.name=='The Gift']"
   ]
  },
  {
   "cell_type": "code",
   "execution_count": 20,
   "metadata": {},
   "outputs": [
    {
     "data": {
      "text/plain": [
       "New EP/Music Development                                    15\n",
       "Canceled (Canceled)                                         13\n",
       "N/A (Canceled)                                              11\n",
       "Music Video                                                 11\n",
       "Cancelled (Canceled)                                        10\n",
       "                                                            ..\n",
       "Underneath The Bridge (2015) - Short Film                    1\n",
       "Miniature Building Authority Castle Kickstarter              1\n",
       "Just trying to make it in the game                           1\n",
       "Dhaba—bringing Indian Street Food to Cincinnati              1\n",
       "Phoenix Musical presents Beauty and the Beast (Canceled)     1\n",
       "Name: name, Length: 367700, dtype: int64"
      ]
     },
     "execution_count": 20,
     "metadata": {},
     "output_type": "execute_result"
    }
   ],
   "source": [
    "data['name'].value_counts()"
   ]
  },
  {
   "cell_type": "code",
   "execution_count": 21,
   "metadata": {},
   "outputs": [],
   "source": [
    "successful_name_counts = data[data.state=='successful']['name'].value_counts()\n",
    "notsuccessful_name_counts = data[data.state!='successful']['name'].value_counts()"
   ]
  },
  {
   "cell_type": "code",
   "execution_count": 22,
   "metadata": {},
   "outputs": [
    {
     "data": {
      "text/plain": [
       "A Midsummer Night's Dream                           5\n",
       "Reflections                                         5\n",
       "Debut Album                                         5\n",
       "Artist Residency at the Vermont Studio Center       5\n",
       "Nocturne                                            4\n",
       "                                                   ..\n",
       "The Bloodlust Bunny Collection                      1\n",
       "Kill the Director!                                  1\n",
       "The Voyageur                                        1\n",
       "Miniature Animation Desk/Stylus Holder              1\n",
       "The Best Dad Ever: Illustrations For a Kids Book    1\n",
       "Name: name, Length: 133562, dtype: int64"
      ]
     },
     "execution_count": 22,
     "metadata": {},
     "output_type": "execute_result"
    }
   ],
   "source": [
    "successful_name_counts"
   ]
  },
  {
   "cell_type": "code",
   "execution_count": 23,
   "metadata": {},
   "outputs": [
    {
     "data": {
      "text/plain": [
       "New EP/Music Development                                    14\n",
       "Canceled (Canceled)                                         13\n",
       "Music Video                                                 11\n",
       "N/A (Canceled)                                              11\n",
       "Cancelled (Canceled)                                        10\n",
       "                                                            ..\n",
       "TheNeonGeisha: Vinyl Die Cut Stickers & Giclee Prints        1\n",
       "Neutral Zone 2                                               1\n",
       "Diatribes                                                    1\n",
       "SPY: Real World, Live-Action Espionage                       1\n",
       "Phoenix Musical presents Beauty and the Beast (Canceled)     1\n",
       "Name: name, Length: 235047, dtype: int64"
      ]
     },
     "execution_count": 23,
     "metadata": {},
     "output_type": "execute_result"
    }
   ],
   "source": [
    "notsuccessful_name_counts"
   ]
  },
  {
   "cell_type": "markdown",
   "metadata": {},
   "source": [
    "### 2.4.2 categoryカラム"
   ]
  },
  {
   "cell_type": "code",
   "execution_count": 24,
   "metadata": {},
   "outputs": [
    {
     "data": {
      "text/plain": [
       "array(['Poetry', 'Narrative Film', 'Music', 'Film & Video', 'Restaurants',\n",
       "       'Food', 'Drinks', 'Product Design', 'Documentary', 'Nonfiction',\n",
       "       'Indie Rock', 'Crafts', 'Games', 'Tabletop Games', 'Design',\n",
       "       'Comic Books', 'Art Books', 'Fashion', 'Childrenswear', 'Theater',\n",
       "       'Comics', 'DIY', 'Webseries', 'Animation', 'Food Trucks',\n",
       "       'Public Art', 'Illustration', 'Photography', 'Pop', 'People',\n",
       "       'Art', 'Family', 'Fiction', 'Accessories', 'Rock', 'Hardware',\n",
       "       'Software', 'Weaving', 'Gadgets', 'Web', 'Jazz', 'Ready-to-wear',\n",
       "       'Festivals', 'Video Games', 'Anthologies', 'Publishing', 'Shorts',\n",
       "       'Electronic Music', 'Radio & Podcasts', 'Apps', 'Cookbooks',\n",
       "       'Apparel', 'Metal', 'Comedy', 'Hip-Hop', 'Periodicals', 'Dance',\n",
       "       'Technology', 'Painting', 'World Music', 'Photobooks', 'Drama',\n",
       "       'Architecture', 'Young Adult', 'Latin', 'Mobile Games', 'Flight',\n",
       "       'Fine Art', 'Action', 'Playing Cards', 'Makerspaces', 'Punk',\n",
       "       \"Children's Books\", 'Audio', 'Performance Art', 'Ceramics',\n",
       "       'Vegan', 'Graphic Novels', 'Fabrication Tools', 'Performances',\n",
       "       'Sculpture', 'Sound', 'Stationery', 'Print', \"Farmer's Markets\",\n",
       "       'Thrillers', 'Events', 'Classical Music', 'Graphic Design',\n",
       "       'Spaces', 'Country & Folk', 'Wearables', 'Mixed Media',\n",
       "       'Journalism', 'Movie Theaters', 'Animals', 'Digital Art',\n",
       "       'Knitting', 'Small Batch', 'Installations', 'Community Gardens',\n",
       "       'DIY Electronics', 'Embroidery', 'Camera Equipment', 'Jewelry',\n",
       "       'Farms', 'Conceptual Art', 'Fantasy', 'Webcomics', 'Horror',\n",
       "       'Experimental', 'Science Fiction', 'Puzzles', 'R&B',\n",
       "       'Music Videos', 'Calendars', 'Video', 'Plays', 'Blues', 'Bacon',\n",
       "       'Faith', 'Live Games', 'Woodworking', 'Places', 'Footwear',\n",
       "       '3D Printing', 'Zines', 'Musical', 'Workshops', 'Photo',\n",
       "       'Immersive', 'Letterpress', 'Academic', 'Gaming Hardware',\n",
       "       'Candles', 'Television', 'Space Exploration', 'Couture', 'Nature',\n",
       "       'Robots', 'Typography', 'Crochet', 'Translations', 'Textiles',\n",
       "       'Pottery', 'Interactive Design', 'Video Art', 'Quilts', 'Glass',\n",
       "       'Pet Fashion', 'Printing', 'Romance', 'Civic Design', 'Kids',\n",
       "       'Literary Journals', 'Taxidermy', 'Literary Spaces', 'Chiptune',\n",
       "       'Residencies'], dtype=object)"
      ]
     },
     "execution_count": 24,
     "metadata": {},
     "output_type": "execute_result"
    }
   ],
   "source": [
    "data.category.unique()"
   ]
  },
  {
   "cell_type": "code",
   "execution_count": 25,
   "metadata": {},
   "outputs": [
    {
     "data": {
      "text/plain": [
       "(array([  0,   1,   2,   3,   4,   5,   6,   7,   8,   9,  10,  11,  12,\n",
       "         13,  14,  15,  16,  17,  18,  19,  20,  21,  22,  23,  24,  25,\n",
       "         26,  27,  28,  29,  30,  31,  32,  33,  34,  35,  36,  37,  38,\n",
       "         39,  40,  41,  42,  43,  44,  45,  46,  47,  48,  49,  50,  51,\n",
       "         52,  53,  54,  55,  56,  57,  58,  59,  60,  61,  62,  63,  64,\n",
       "         65,  66,  67,  68,  69,  70,  71,  72,  73,  74,  75,  76,  77,\n",
       "         78,  79,  80,  81,  82,  83,  84,  85,  86,  87,  88,  89,  90,\n",
       "         91,  92,  93,  94,  95,  96,  97,  98,  99, 100, 101, 102, 103,\n",
       "        104, 105, 106, 107, 108, 109, 110, 111, 112, 113, 114, 115, 116,\n",
       "        117, 118, 119, 120, 121, 122, 123, 124, 125, 126, 127, 128, 129,\n",
       "        130, 131, 132, 133, 134, 135, 136, 137, 138, 139, 140, 141, 142,\n",
       "        143, 144, 145, 146, 147, 148, 149, 150, 151, 152, 153, 154, 155,\n",
       "        156, 157, 158]),\n",
       " [Text(0, 0, 'Product Design'),\n",
       "  Text(1, 0, 'Tabletop Games'),\n",
       "  Text(2, 0, 'Shorts'),\n",
       "  Text(3, 0, 'Music'),\n",
       "  Text(4, 0, 'Documentary'),\n",
       "  Text(5, 0, 'Theater'),\n",
       "  Text(6, 0, 'Indie Rock'),\n",
       "  Text(7, 0, 'Rock'),\n",
       "  Text(8, 0, 'Art'),\n",
       "  Text(9, 0, 'Food'),\n",
       "  Text(10, 0, 'Film & Video'),\n",
       "  Text(11, 0, 'Country & Folk'),\n",
       "  Text(12, 0, 'Comics'),\n",
       "  Text(13, 0, 'Video Games'),\n",
       "  Text(14, 0, \"Children's Books\"),\n",
       "  Text(15, 0, 'Fiction'),\n",
       "  Text(16, 0, 'Nonfiction'),\n",
       "  Text(17, 0, 'Fashion'),\n",
       "  Text(18, 0, 'Narrative Film'),\n",
       "  Text(19, 0, 'Photography'),\n",
       "  Text(20, 0, 'Webseries'),\n",
       "  Text(21, 0, 'Classical Music'),\n",
       "  Text(22, 0, 'Publishing'),\n",
       "  Text(23, 0, 'Illustration'),\n",
       "  Text(24, 0, 'Comic Books'),\n",
       "  Text(25, 0, 'Pop'),\n",
       "  Text(26, 0, 'Public Art'),\n",
       "  Text(27, 0, 'Dance'),\n",
       "  Text(28, 0, 'Apparel'),\n",
       "  Text(29, 0, 'Design'),\n",
       "  Text(30, 0, 'Art Books'),\n",
       "  Text(31, 0, 'Technology'),\n",
       "  Text(32, 0, 'Hardware'),\n",
       "  Text(33, 0, 'Crafts'),\n",
       "  Text(34, 0, 'Painting'),\n",
       "  Text(35, 0, 'Jazz'),\n",
       "  Text(36, 0, 'Accessories'),\n",
       "  Text(37, 0, 'Graphic Novels'),\n",
       "  Text(38, 0, 'Playing Cards'),\n",
       "  Text(39, 0, 'Mixed Media'),\n",
       "  Text(40, 0, 'Performance Art'),\n",
       "  Text(41, 0, 'World Music'),\n",
       "  Text(42, 0, 'Comedy'),\n",
       "  Text(43, 0, 'Gadgets'),\n",
       "  Text(44, 0, 'Drama'),\n",
       "  Text(45, 0, 'Plays'),\n",
       "  Text(46, 0, 'Games'),\n",
       "  Text(47, 0, 'Graphic Design'),\n",
       "  Text(48, 0, 'Electronic Music'),\n",
       "  Text(49, 0, 'Sculpture'),\n",
       "  Text(50, 0, 'Animation'),\n",
       "  Text(51, 0, 'Photobooks'),\n",
       "  Text(52, 0, 'Performances'),\n",
       "  Text(53, 0, 'Hip-Hop'),\n",
       "  Text(54, 0, 'Drinks'),\n",
       "  Text(55, 0, 'Small Batch'),\n",
       "  Text(56, 0, 'Anthologies'),\n",
       "  Text(57, 0, 'Periodicals'),\n",
       "  Text(58, 0, 'Poetry'),\n",
       "  Text(59, 0, 'Journalism'),\n",
       "  Text(60, 0, 'Musical'),\n",
       "  Text(61, 0, 'Festivals'),\n",
       "  Text(62, 0, 'Restaurants'),\n",
       "  Text(63, 0, 'Faith'),\n",
       "  Text(64, 0, 'Web'),\n",
       "  Text(65, 0, 'DIY Electronics'),\n",
       "  Text(66, 0, 'Horror'),\n",
       "  Text(67, 0, 'Radio & Podcasts'),\n",
       "  Text(68, 0, 'Wearables'),\n",
       "  Text(69, 0, 'Apps'),\n",
       "  Text(70, 0, 'Digital Art'),\n",
       "  Text(71, 0, 'Software'),\n",
       "  Text(72, 0, 'Conceptual Art'),\n",
       "  Text(73, 0, 'Webcomics'),\n",
       "  Text(74, 0, 'Experimental'),\n",
       "  Text(75, 0, 'Jewelry'),\n",
       "  Text(76, 0, 'Footwear'),\n",
       "  Text(77, 0, 'Spaces'),\n",
       "  Text(78, 0, 'Woodworking'),\n",
       "  Text(79, 0, 'Fine Art'),\n",
       "  Text(80, 0, 'Metal'),\n",
       "  Text(81, 0, 'Sound'),\n",
       "  Text(82, 0, 'Science Fiction'),\n",
       "  Text(83, 0, '3D Printing'),\n",
       "  Text(84, 0, 'Farms'),\n",
       "  Text(85, 0, 'Music Videos'),\n",
       "  Text(86, 0, 'Installations'),\n",
       "  Text(87, 0, 'People'),\n",
       "  Text(88, 0, 'Robots'),\n",
       "  Text(89, 0, 'Food Trucks'),\n",
       "  Text(90, 0, 'Thrillers'),\n",
       "  Text(91, 0, 'Camera Equipment'),\n",
       "  Text(92, 0, 'Academic'),\n",
       "  Text(93, 0, 'Vegan'),\n",
       "  Text(94, 0, 'DIY'),\n",
       "  Text(95, 0, 'Live Games'),\n",
       "  Text(96, 0, 'Zines'),\n",
       "  Text(97, 0, 'Architecture'),\n",
       "  Text(98, 0, 'Young Adult'),\n",
       "  Text(99, 0, 'Immersive'),\n",
       "  Text(100, 0, 'Print'),\n",
       "  Text(101, 0, 'Events'),\n",
       "  Text(102, 0, 'Television'),\n",
       "  Text(103, 0, 'Mobile Games'),\n",
       "  Text(104, 0, 'Punk'),\n",
       "  Text(105, 0, 'Ready-to-wear'),\n",
       "  Text(106, 0, 'Literary Journals'),\n",
       "  Text(107, 0, 'Ceramics'),\n",
       "  Text(108, 0, 'Cookbooks'),\n",
       "  Text(109, 0, 'Calendars'),\n",
       "  Text(110, 0, 'Kids'),\n",
       "  Text(111, 0, 'Space Exploration'),\n",
       "  Text(112, 0, 'Places'),\n",
       "  Text(113, 0, 'Blues'),\n",
       "  Text(114, 0, 'Audio'),\n",
       "  Text(115, 0, 'R&B'),\n",
       "  Text(116, 0, 'Action'),\n",
       "  Text(117, 0, 'Fantasy'),\n",
       "  Text(118, 0, 'Civic Design'),\n",
       "  Text(119, 0, 'Nature'),\n",
       "  Text(120, 0, 'Gaming Hardware'),\n",
       "  Text(121, 0, 'Childrenswear'),\n",
       "  Text(122, 0, 'Puzzles'),\n",
       "  Text(123, 0, 'Knitting'),\n",
       "  Text(124, 0, 'Interactive Design'),\n",
       "  Text(125, 0, 'Textiles'),\n",
       "  Text(126, 0, 'Stationery'),\n",
       "  Text(127, 0, 'Flight'),\n",
       "  Text(128, 0, 'Makerspaces'),\n",
       "  Text(129, 0, \"Farmer's Markets\"),\n",
       "  Text(130, 0, 'Family'),\n",
       "  Text(131, 0, 'Fabrication Tools'),\n",
       "  Text(132, 0, 'Community Gardens'),\n",
       "  Text(133, 0, 'Animals'),\n",
       "  Text(134, 0, 'Typography'),\n",
       "  Text(135, 0, 'Candles'),\n",
       "  Text(136, 0, 'Romance'),\n",
       "  Text(137, 0, 'Movie Theaters'),\n",
       "  Text(138, 0, 'Video'),\n",
       "  Text(139, 0, 'Video Art'),\n",
       "  Text(140, 0, 'Workshops'),\n",
       "  Text(141, 0, 'Residencies'),\n",
       "  Text(142, 0, 'Printing'),\n",
       "  Text(143, 0, 'Pottery'),\n",
       "  Text(144, 0, 'Couture'),\n",
       "  Text(145, 0, 'Bacon'),\n",
       "  Text(146, 0, 'Latin'),\n",
       "  Text(147, 0, 'Glass'),\n",
       "  Text(148, 0, 'Pet Fashion'),\n",
       "  Text(149, 0, 'Crochet'),\n",
       "  Text(150, 0, 'Translations'),\n",
       "  Text(151, 0, 'Photo'),\n",
       "  Text(152, 0, 'Letterpress'),\n",
       "  Text(153, 0, 'Weaving'),\n",
       "  Text(154, 0, 'Chiptune'),\n",
       "  Text(155, 0, 'Quilts'),\n",
       "  Text(156, 0, 'Embroidery'),\n",
       "  Text(157, 0, 'Literary Spaces'),\n",
       "  Text(158, 0, 'Taxidermy')])"
      ]
     },
     "execution_count": 25,
     "metadata": {},
     "output_type": "execute_result"
    },
    {
     "data": {
      "image/png": "[encoded data removed]",
      "text/plain": [
       "<Figure size 1872x432 with 1 Axes>"
      ]
     },
     "metadata": {
      "needs_background": "light"
     },
     "output_type": "display_data"
    }
   ],
   "source": [
    "successful_category_counts = data[data.state=='successful']['category'].value_counts()\n",
    "notsuccessful_category_counts = data[data.state!='successful']['category'].value_counts()\n",
    "fig = plt.figure(figsize=(26.0, 6.0))\n",
    "sns.barplot(x=successful_category_counts.index, y=successful_category_counts.values)\n",
    "plt.xticks(rotation=90)"
   ]
  },
  {
   "cell_type": "code",
   "execution_count": 26,
   "metadata": {},
   "outputs": [
    {
     "data": {
      "text/plain": [
       "(array([ 0,  1,  2,  3,  4,  5,  6,  7,  8,  9, 10, 11, 12, 13, 14, 15, 16,\n",
       "        17, 18, 19]),\n",
       " [Text(0, 0, 'Product Design'),\n",
       "  Text(1, 0, 'Documentary'),\n",
       "  Text(2, 0, 'Video Games'),\n",
       "  Text(3, 0, 'Food'),\n",
       "  Text(4, 0, 'Music'),\n",
       "  Text(5, 0, 'Fiction'),\n",
       "  Text(6, 0, 'Fashion'),\n",
       "  Text(7, 0, 'Tabletop Games'),\n",
       "  Text(8, 0, 'Film & Video'),\n",
       "  Text(9, 0, 'Nonfiction'),\n",
       "  Text(10, 0, 'Apps'),\n",
       "  Text(11, 0, 'Shorts'),\n",
       "  Text(12, 0, 'Apparel'),\n",
       "  Text(13, 0, 'Technology'),\n",
       "  Text(14, 0, 'Art'),\n",
       "  Text(15, 0, 'Web'),\n",
       "  Text(16, 0, \"Children's Books\"),\n",
       "  Text(17, 0, 'Webseries'),\n",
       "  Text(18, 0, 'Photography'),\n",
       "  Text(19, 0, 'Publishing')])"
      ]
     },
     "execution_count": 26,
     "metadata": {},
     "output_type": "execute_result"
    },
    {
     "data": {
      "image/png": "[encoded data removed]",
      "text/plain": [
       "<Figure size 1440x432 with 2 Axes>"
      ]
     },
     "metadata": {
      "needs_background": "light"
     },
     "output_type": "display_data"
    }
   ],
   "source": [
    "# successful_category_counts = data[data.state=='successful']['category'].value_counts()\n",
    "# notsuccessful_category_counts = data[data.state!='successful']['category'].value_counts()\n",
    "fig = plt.figure(figsize=(20.0, 6.0))\n",
    "plt.subplot(1, 2, 1)\n",
    "ax = sns.barplot(x=successful_category_counts[:20].index, y=successful_category_counts[:20].values)\n",
    "ax.set_title('category value counts ( successful )')\n",
    "plt.xticks(rotation=90)\n",
    "plt.subplot(1, 2, 2)\n",
    "ax = sns.barplot(x=notsuccessful_category_counts[:20].index, y=notsuccessful_category_counts[:20].values)\n",
    "ax.set_title('category value counts ( not successful )')\n",
    "plt.xticks(rotation=90)"
   ]
  },
  {
   "cell_type": "markdown",
   "metadata": {},
   "source": [
    "#### 2.4.3 main_categoryカラム"
   ]
  },
  {
   "cell_type": "code",
   "execution_count": 27,
   "metadata": {},
   "outputs": [
    {
     "data": {
      "text/plain": [
       "array(['Publishing', 'Film & Video', 'Music', 'Food', 'Design', 'Crafts',\n",
       "       'Games', 'Comics', 'Fashion', 'Theater', 'Art', 'Photography',\n",
       "       'Technology', 'Dance', 'Journalism'], dtype=object)"
      ]
     },
     "execution_count": 27,
     "metadata": {},
     "output_type": "execute_result"
    }
   ],
   "source": [
    "data.main_category.unique()"
   ]
  },
  {
   "cell_type": "code",
   "execution_count": 28,
   "metadata": {},
   "outputs": [
    {
     "data": {
      "text/plain": [
       "(array([ 0,  1,  2,  3,  4,  5,  6,  7,  8,  9, 10, 11, 12, 13, 14]),\n",
       " [Text(0, 0, 'Film & Video'),\n",
       "  Text(1, 0, 'Publishing'),\n",
       "  Text(2, 0, 'Technology'),\n",
       "  Text(3, 0, 'Music'),\n",
       "  Text(4, 0, 'Games'),\n",
       "  Text(5, 0, 'Design'),\n",
       "  Text(6, 0, 'Food'),\n",
       "  Text(7, 0, 'Fashion'),\n",
       "  Text(8, 0, 'Art'),\n",
       "  Text(9, 0, 'Photography'),\n",
       "  Text(10, 0, 'Crafts'),\n",
       "  Text(11, 0, 'Comics'),\n",
       "  Text(12, 0, 'Theater'),\n",
       "  Text(13, 0, 'Journalism'),\n",
       "  Text(14, 0, 'Dance')])"
      ]
     },
     "execution_count": 28,
     "metadata": {},
     "output_type": "execute_result"
    },
    {
     "data": {
      "image/png": "[encoded data removed]",
      "text/plain": [
       "<Figure size 1440x432 with 2 Axes>"
      ]
     },
     "metadata": {
      "needs_background": "light"
     },
     "output_type": "display_data"
    }
   ],
   "source": [
    "successful_main_category_counts = data[data.state=='successful']['main_category'].value_counts()\n",
    "notsuccessful_main_category_counts = data[data.state!='successful']['main_category'].value_counts()\n",
    "fig = plt.figure(figsize=(20.0, 6.0))\n",
    "plt.subplot(1, 2, 1)\n",
    "ax = sns.barplot(x=successful_main_category_counts.index, y=successful_main_category_counts.values)\n",
    "ax.set_title('main_category value counts ( successful )')\n",
    "plt.xticks(rotation=90)\n",
    "plt.subplot(1, 2, 2)\n",
    "ax = sns.barplot(x=notsuccessful_main_category_counts.index, y=notsuccessful_main_category_counts.values)\n",
    "ax.set_title('main_category value counts ( not successful )')\n",
    "plt.xticks(rotation=90)"
   ]
  },
  {
   "cell_type": "markdown",
   "metadata": {},
   "source": [
    "### 2.4.4 currencyカラム"
   ]
  },
  {
   "cell_type": "code",
   "execution_count": 29,
   "metadata": {},
   "outputs": [
    {
     "data": {
      "text/plain": [
       "array(['GBP', 'USD', 'CAD', 'AUD', 'NOK', 'EUR', 'MXN', 'SEK', 'NZD',\n",
       "       'CHF', 'DKK', 'HKD', 'SGD', 'JPY'], dtype=object)"
      ]
     },
     "execution_count": 29,
     "metadata": {},
     "output_type": "execute_result"
    }
   ],
   "source": [
    "data.currency.unique()"
   ]
  },
  {
   "cell_type": "code",
   "execution_count": 30,
   "metadata": {},
   "outputs": [
    {
     "data": {
      "text/plain": [
       "(array([ 0,  1,  2,  3,  4,  5,  6,  7,  8,  9, 10, 11, 12, 13]),\n",
       " [Text(0, 0, 'USD'),\n",
       "  Text(1, 0, 'GBP'),\n",
       "  Text(2, 0, 'EUR'),\n",
       "  Text(3, 0, 'CAD'),\n",
       "  Text(4, 0, 'AUD'),\n",
       "  Text(5, 0, 'MXN'),\n",
       "  Text(6, 0, 'SEK'),\n",
       "  Text(7, 0, 'NZD'),\n",
       "  Text(8, 0, 'DKK'),\n",
       "  Text(9, 0, 'CHF'),\n",
       "  Text(10, 0, 'NOK'),\n",
       "  Text(11, 0, 'HKD'),\n",
       "  Text(12, 0, 'SGD'),\n",
       "  Text(13, 0, 'JPY')])"
      ]
     },
     "execution_count": 30,
     "metadata": {},
     "output_type": "execute_result"
    },
    {
     "data": {
      "image/png": "[encoded data removed]",
      "text/plain": [
       "<Figure size 1440x432 with 2 Axes>"
      ]
     },
     "metadata": {
      "needs_background": "light"
     },
     "output_type": "display_data"
    }
   ],
   "source": [
    "successful_currency_counts = data[data.state=='successful']['currency'].value_counts()\n",
    "notsuccessful_currency_counts = data[data.state!='successful']['currency'].value_counts()\n",
    "fig = plt.figure(figsize=(20.0, 6.0))\n",
    "plt.subplot(1, 2, 1)\n",
    "ax = sns.barplot(x=successful_currency_counts.index, y=successful_currency_counts.values)\n",
    "ax.set_title('currency value counts ( successful )')\n",
    "plt.xticks(rotation=90)\n",
    "plt.subplot(1, 2, 2)\n",
    "ax = sns.barplot(x=notsuccessful_currency_counts.index, y=notsuccessful_currency_counts.values)\n",
    "ax.set_title('currency value counts ( not successful )')\n",
    "plt.xticks(rotation=90)"
   ]
  },
  {
   "cell_type": "markdown",
   "metadata": {},
   "source": [
    "USDに偏っているので、使用される通貨の割合でみていくことにすると"
   ]
  },
  {
   "cell_type": "code",
   "execution_count": 31,
   "metadata": {},
   "outputs": [
    {
     "data": {
      "text/plain": [
       "(array([ 0,  1,  2,  3,  4,  5,  6,  7,  8,  9, 10, 11, 12, 13]),\n",
       " [Text(0, 0, 'JPY'),\n",
       "  Text(1, 0, 'EUR'),\n",
       "  Text(2, 0, 'NOK'),\n",
       "  Text(3, 0, 'MXN'),\n",
       "  Text(4, 0, 'CHF'),\n",
       "  Text(5, 0, 'AUD'),\n",
       "  Text(6, 0, 'CAD'),\n",
       "  Text(7, 0, 'SEK'),\n",
       "  Text(8, 0, 'NZD'),\n",
       "  Text(9, 0, 'DKK'),\n",
       "  Text(10, 0, 'SGD'),\n",
       "  Text(11, 0, 'GBP'),\n",
       "  Text(12, 0, 'USD'),\n",
       "  Text(13, 0, 'HKD')])"
      ]
     },
     "execution_count": 31,
     "metadata": {},
     "output_type": "execute_result"
    },
    {
     "data": {
      "image/png": "[encoded data removed]",
      "text/plain": [
       "<Figure size 1440x432 with 2 Axes>"
      ]
     },
     "metadata": {
      "needs_background": "light"
     },
     "output_type": "display_data"
    }
   ],
   "source": [
    "successful_currency = (successful_currency_counts / data.currency.value_counts()).sort_values(ascending=False)\n",
    "notsuccessful_currency = (notsuccessful_currency_counts / data.currency.value_counts()).sort_values(ascending=False)\n",
    "fig = plt.figure(figsize=(20.0, 6.0))\n",
    "plt.subplot(1, 2, 1)\n",
    "ax = sns.barplot(x=successful_currency.index, y=successful_currency.values)\n",
    "ax.set_title('currency value counts rate ( successful )')\n",
    "plt.xticks(rotation=90)\n",
    "plt.subplot(1, 2, 2)\n",
    "ax = sns.barplot(x=notsuccessful_currency.index, y=notsuccessful_currency.values)\n",
    "ax.set_title('currency value counts rate ( not successful )')\n",
    "plt.xticks(rotation=90)"
   ]
  },
  {
   "cell_type": "markdown",
   "metadata": {},
   "source": [
    "HKDでの成功数割合がおおい。JPYでは成功しない企画が多い\n",
    "因みに、各通貨での企画数は"
   ]
  },
  {
   "cell_type": "code",
   "execution_count": 32,
   "metadata": {},
   "outputs": [
    {
     "name": "stdout",
     "output_type": "stream",
     "text": [
      "HKD: number of projects  564\n",
      "JPY: number of projects  31\n"
     ]
    }
   ],
   "source": [
    "print('HKD: number of projects ', len(data[data.currency=='HKD']))\n",
    "print('JPY: number of projects ', len(data[data.currency=='JPY']))"
   ]
  },
  {
   "cell_type": "markdown",
   "metadata": {},
   "source": [
    "### 2.4.5 goal-usd_goal_realカラム"
   ]
  },
  {
   "cell_type": "code",
   "execution_count": 33,
   "metadata": {},
   "outputs": [
    {
     "data": {
      "text/plain": [
       "count    3.704510e+05\n",
       "mean     4.507610e+04\n",
       "std      1.128270e+06\n",
       "min      1.000000e-02\n",
       "25%      2.000000e+03\n",
       "50%      5.500000e+03\n",
       "75%      1.595685e+04\n",
       "max      1.663614e+08\n",
       "Name: usd_goal_real, dtype: float64"
      ]
     },
     "execution_count": 33,
     "metadata": {},
     "output_type": "execute_result"
    }
   ],
   "source": [
    "data['usd_goal_real'].describe()"
   ]
  },
  {
   "cell_type": "code",
   "execution_count": 34,
   "metadata": {},
   "outputs": [
    {
     "data": {
      "text/plain": [
       "<AxesSubplot:xlabel='state', ylabel='usd_goal_real'>"
      ]
     },
     "execution_count": 34,
     "metadata": {},
     "output_type": "execute_result"
    },
    {
     "data": {
      "image/png": "[encoded data removed]",
      "text/plain": [
       "<Figure size 864x432 with 1 Axes>"
      ]
     },
     "metadata": {
      "needs_background": "light"
     },
     "output_type": "display_data"
    }
   ],
   "source": [
    "fig = plt.figure(figsize=(12.0, 6.0))\n",
    "sns.boxplot(x=data['state'], y=data['usd_goal_real'])"
   ]
  },
  {
   "cell_type": "markdown",
   "metadata": {},
   "source": [
    "つぶれてしまうのでスケールを変える"
   ]
  },
  {
   "cell_type": "code",
   "execution_count": 35,
   "metadata": {},
   "outputs": [
    {
     "data": {
      "text/plain": [
       "<AxesSubplot:xlabel='state', ylabel='usd_goal_real'>"
      ]
     },
     "execution_count": 35,
     "metadata": {},
     "output_type": "execute_result"
    },
    {
     "data": {
      "image/png": "[encoded data removed]",
      "text/plain": [
       "<Figure size 864x432 with 1 Axes>"
      ]
     },
     "metadata": {
      "needs_background": "light"
     },
     "output_type": "display_data"
    }
   ],
   "source": [
    "fig = plt.figure(figsize=(12.0, 6.0))\n",
    "sns.boxplot(x=data['state'], y=np.log1p(data['usd_goal_real']))"
   ]
  },
  {
   "cell_type": "markdown",
   "metadata": {},
   "source": [
    "成功している企画は、若干目標金額が低めに設定されている。"
   ]
  },
  {
   "cell_type": "markdown",
   "metadata": {},
   "source": [
    "### 2.4.6 launch-deadlineカラム"
   ]
  },
  {
   "cell_type": "code",
   "execution_count": 36,
   "metadata": {},
   "outputs": [
    {
     "name": "stdout",
     "output_type": "stream",
     "text": [
      "launched: mean   2014-09-16 02:44:20.967921152\n",
      "launched: max   2018-01-02 03:05:10\n",
      "launched: min   1970-01-01 01:00:00\n"
     ]
    }
   ],
   "source": [
    "print('launched: mean  ', data['launched'].mean())\n",
    "print('launched: max  ', data['launched'].max())\n",
    "print('launched: min  ', data['launched'].min())"
   ]
  },
  {
   "cell_type": "code",
   "execution_count": 37,
   "metadata": {},
   "outputs": [
    {
     "name": "stdout",
     "output_type": "stream",
     "text": [
      "deadline: mean   2014-10-19 22:55:03.206029824\n",
      "deadline: max   2018-02-24 00:00:00\n",
      "deadline: min   2009-05-03 00:00:00\n"
     ]
    }
   ],
   "source": [
    "print('deadline: mean  ', data['deadline'].mean())\n",
    "print('deadline: max  ', data['deadline'].max())\n",
    "print('deadline: min  ', data['deadline'].min())"
   ]
  },
  {
   "cell_type": "code",
   "execution_count": 38,
   "metadata": {},
   "outputs": [],
   "source": [
    "data['interval'] = data['deadline'] - data['launched']"
   ]
  },
  {
   "cell_type": "code",
   "execution_count": 39,
   "metadata": {},
   "outputs": [
    {
     "name": "stdout",
     "output_type": "stream",
     "text": [
      "project range: mean   33 days 20:10:42.238142132\n",
      "project range: max   14866 days 23:00:00\n",
      "project range: min   0 days 00:07:17\n"
     ]
    }
   ],
   "source": [
    "print('project range: mean  ', data['interval'].mean())\n",
    "print('project range: max  ', data['interval'].max())\n",
    "print('project range: min  ', data['interval'].min())"
   ]
  },
  {
   "cell_type": "markdown",
   "metadata": {},
   "source": [
    "kickstarterの創業は2009年の4月。launchedに1997年があるが、これは明らかにおかしい  \n",
    "ノイズになりそうな異常値データ(1970年データ)"
   ]
  },
  {
   "cell_type": "code",
   "execution_count": 40,
   "metadata": {},
   "outputs": [
    {
     "data": {
      "text/html": [
       "<div>\n",
       "<style scoped>\n",
       "    .dataframe tbody tr th:only-of-type {\n",
       "        vertical-align: middle;\n",
       "    }\n",
       "\n",
       "    .dataframe tbody tr th {\n",
       "        vertical-align: top;\n",
       "    }\n",
       "\n",
       "    .dataframe thead th {\n",
       "        text-align: right;\n",
       "    }\n",
       "</style>\n",
       "<table border=\"1\" class=\"dataframe\">\n",
       "  <thead>\n",
       "    <tr style=\"text-align: right;\">\n",
       "      <th></th>\n",
       "      <th>ID</th>\n",
       "      <th>name</th>\n",
       "      <th>category</th>\n",
       "      <th>main_category</th>\n",
       "      <th>currency</th>\n",
       "      <th>deadline</th>\n",
       "      <th>goal</th>\n",
       "      <th>launched</th>\n",
       "      <th>state</th>\n",
       "      <th>country</th>\n",
       "      <th>usd_goal_real</th>\n",
       "      <th>interval</th>\n",
       "    </tr>\n",
       "  </thead>\n",
       "  <tbody>\n",
       "    <tr>\n",
       "      <th>2777</th>\n",
       "      <td>1014746686</td>\n",
       "      <td>Salt of the Earth: A Dead Sea Movie (Canceled)</td>\n",
       "      <td>Film &amp; Video</td>\n",
       "      <td>Film &amp; Video</td>\n",
       "      <td>USD</td>\n",
       "      <td>2010-09-15</td>\n",
       "      <td>5000.0</td>\n",
       "      <td>1970-01-01 01:00:00</td>\n",
       "      <td>canceled</td>\n",
       "      <td>US</td>\n",
       "      <td>5000.0</td>\n",
       "      <td>14866 days 23:00:00</td>\n",
       "    </tr>\n",
       "    <tr>\n",
       "      <th>47156</th>\n",
       "      <td>1245461087</td>\n",
       "      <td>1st Super-Size Painting - Social Network Owned...</td>\n",
       "      <td>Art</td>\n",
       "      <td>Art</td>\n",
       "      <td>USD</td>\n",
       "      <td>2010-08-14</td>\n",
       "      <td>15000.0</td>\n",
       "      <td>1970-01-01 01:00:00</td>\n",
       "      <td>canceled</td>\n",
       "      <td>US</td>\n",
       "      <td>15000.0</td>\n",
       "      <td>14834 days 23:00:00</td>\n",
       "    </tr>\n",
       "    <tr>\n",
       "      <th>73787</th>\n",
       "      <td>1384087152</td>\n",
       "      <td>\"ICHOR\"  (Canceled)</td>\n",
       "      <td>Film &amp; Video</td>\n",
       "      <td>Film &amp; Video</td>\n",
       "      <td>USD</td>\n",
       "      <td>2010-05-21</td>\n",
       "      <td>700.0</td>\n",
       "      <td>1970-01-01 01:00:00</td>\n",
       "      <td>canceled</td>\n",
       "      <td>US</td>\n",
       "      <td>700.0</td>\n",
       "      <td>14749 days 23:00:00</td>\n",
       "    </tr>\n",
       "    <tr>\n",
       "      <th>92565</th>\n",
       "      <td>1480763647</td>\n",
       "      <td>Support Solo Theater! Help \"Ungrateful Daughte...</td>\n",
       "      <td>Theater</td>\n",
       "      <td>Theater</td>\n",
       "      <td>USD</td>\n",
       "      <td>2010-06-01</td>\n",
       "      <td>4000.0</td>\n",
       "      <td>1970-01-01 01:00:00</td>\n",
       "      <td>canceled</td>\n",
       "      <td>US</td>\n",
       "      <td>4000.0</td>\n",
       "      <td>14760 days 23:00:00</td>\n",
       "    </tr>\n",
       "    <tr>\n",
       "      <th>242574</th>\n",
       "      <td>330942060</td>\n",
       "      <td>Help RIZ Make A Charity Album: 8 Songs, 8 Caus...</td>\n",
       "      <td>Music</td>\n",
       "      <td>Music</td>\n",
       "      <td>USD</td>\n",
       "      <td>2010-05-04</td>\n",
       "      <td>10000.0</td>\n",
       "      <td>1970-01-01 01:00:00</td>\n",
       "      <td>canceled</td>\n",
       "      <td>US</td>\n",
       "      <td>10000.0</td>\n",
       "      <td>14732 days 23:00:00</td>\n",
       "    </tr>\n",
       "    <tr>\n",
       "      <th>267911</th>\n",
       "      <td>462917959</td>\n",
       "      <td>Identity Communications Infographic (Canceled)</td>\n",
       "      <td>Design</td>\n",
       "      <td>Design</td>\n",
       "      <td>USD</td>\n",
       "      <td>2010-04-10</td>\n",
       "      <td>500.0</td>\n",
       "      <td>1970-01-01 01:00:00</td>\n",
       "      <td>canceled</td>\n",
       "      <td>US</td>\n",
       "      <td>500.0</td>\n",
       "      <td>14708 days 23:00:00</td>\n",
       "    </tr>\n",
       "  </tbody>\n",
       "</table>\n",
       "</div>"
      ],
      "text/plain": [
       "                ID                                               name  \\\n",
       "2777    1014746686     Salt of the Earth: A Dead Sea Movie (Canceled)   \n",
       "47156   1245461087  1st Super-Size Painting - Social Network Owned...   \n",
       "73787   1384087152                                \"ICHOR\"  (Canceled)   \n",
       "92565   1480763647  Support Solo Theater! Help \"Ungrateful Daughte...   \n",
       "242574   330942060  Help RIZ Make A Charity Album: 8 Songs, 8 Caus...   \n",
       "267911   462917959     Identity Communications Infographic (Canceled)   \n",
       "\n",
       "            category main_category currency   deadline     goal  \\\n",
       "2777    Film & Video  Film & Video      USD 2010-09-15   5000.0   \n",
       "47156            Art           Art      USD 2010-08-14  15000.0   \n",
       "73787   Film & Video  Film & Video      USD 2010-05-21    700.0   \n",
       "92565        Theater       Theater      USD 2010-06-01   4000.0   \n",
       "242574         Music         Music      USD 2010-05-04  10000.0   \n",
       "267911        Design        Design      USD 2010-04-10    500.0   \n",
       "\n",
       "                  launched     state country  usd_goal_real  \\\n",
       "2777   1970-01-01 01:00:00  canceled      US         5000.0   \n",
       "47156  1970-01-01 01:00:00  canceled      US        15000.0   \n",
       "73787  1970-01-01 01:00:00  canceled      US          700.0   \n",
       "92565  1970-01-01 01:00:00  canceled      US         4000.0   \n",
       "242574 1970-01-01 01:00:00  canceled      US        10000.0   \n",
       "267911 1970-01-01 01:00:00  canceled      US          500.0   \n",
       "\n",
       "                  interval  \n",
       "2777   14866 days 23:00:00  \n",
       "47156  14834 days 23:00:00  \n",
       "73787  14749 days 23:00:00  \n",
       "92565  14760 days 23:00:00  \n",
       "242574 14732 days 23:00:00  \n",
       "267911 14708 days 23:00:00  "
      ]
     },
     "execution_count": 40,
     "metadata": {},
     "output_type": "execute_result"
    }
   ],
   "source": [
    "data[data.launched < '2009-04-01']"
   ]
  },
  {
   "cell_type": "markdown",
   "metadata": {},
   "source": [
    "削除しておく"
   ]
  },
  {
   "cell_type": "code",
   "execution_count": 41,
   "metadata": {},
   "outputs": [],
   "source": [
    "data = data[data.launched >= '2009-04-01']"
   ]
  },
  {
   "cell_type": "markdown",
   "metadata": {},
   "source": [
    "時間データを数値化する"
   ]
  },
  {
   "cell_type": "code",
   "execution_count": 42,
   "metadata": {},
   "outputs": [],
   "source": [
    "data['launched'] = data['launched'].map(pd.Timestamp.to_julian_date)\n",
    "data['deadline'] = data['deadline'].map(pd.Timestamp.to_julian_date)\n",
    "data['interval'] = data['deadline'] - data['launched']"
   ]
  },
  {
   "cell_type": "code",
   "execution_count": 43,
   "metadata": {},
   "outputs": [
    {
     "data": {
      "text/plain": [
       "<AxesSubplot:xlabel='state', ylabel='interval'>"
      ]
     },
     "execution_count": 43,
     "metadata": {},
     "output_type": "execute_result"
    },
    {
     "data": {
      "image/png": "[encoded data removed]",
      "text/plain": [
       "<Figure size 864x432 with 1 Axes>"
      ]
     },
     "metadata": {
      "needs_background": "light"
     },
     "output_type": "display_data"
    }
   ],
   "source": [
    "fig = plt.figure(figsize=(12.0, 6.0))\n",
    "sns.boxplot(x=data['state'], y=data['interval'])"
   ]
  },
  {
   "cell_type": "markdown",
   "metadata": {},
   "source": [
    "以外にも成功するプロジェクトは支援の受付期間が短い"
   ]
  },
  {
   "cell_type": "markdown",
   "metadata": {},
   "source": [
    "### 2.4.7 countryカラム"
   ]
  },
  {
   "cell_type": "code",
   "execution_count": 44,
   "metadata": {},
   "outputs": [
    {
     "data": {
      "text/plain": [
       "array(['GB', 'US', 'CA', 'AU', 'NO', 'IT', 'DE', 'IE', 'MX', 'ES', 'SE',\n",
       "       'FR', 'NL', 'NZ', 'CH', 'AT', 'BE', 'DK', 'HK', 'LU', 'SG', 'N,0\"',\n",
       "       'JP'], dtype=object)"
      ]
     },
     "execution_count": 44,
     "metadata": {},
     "output_type": "execute_result"
    }
   ],
   "source": [
    "data.country.unique()"
   ]
  },
  {
   "cell_type": "code",
   "execution_count": 45,
   "metadata": {},
   "outputs": [
    {
     "data": {
      "text/html": [
       "<div>\n",
       "<style scoped>\n",
       "    .dataframe tbody tr th:only-of-type {\n",
       "        vertical-align: middle;\n",
       "    }\n",
       "\n",
       "    .dataframe tbody tr th {\n",
       "        vertical-align: top;\n",
       "    }\n",
       "\n",
       "    .dataframe thead th {\n",
       "        text-align: right;\n",
       "    }\n",
       "</style>\n",
       "<table border=\"1\" class=\"dataframe\">\n",
       "  <thead>\n",
       "    <tr style=\"text-align: right;\">\n",
       "      <th></th>\n",
       "      <th>ID</th>\n",
       "      <th>name</th>\n",
       "      <th>category</th>\n",
       "      <th>main_category</th>\n",
       "      <th>currency</th>\n",
       "      <th>deadline</th>\n",
       "      <th>goal</th>\n",
       "      <th>launched</th>\n",
       "      <th>state</th>\n",
       "      <th>country</th>\n",
       "      <th>usd_goal_real</th>\n",
       "      <th>interval</th>\n",
       "    </tr>\n",
       "  </thead>\n",
       "  <tbody>\n",
       "    <tr>\n",
       "      <th>129643</th>\n",
       "      <td>1672411097</td>\n",
       "      <td>New EP/Music Development</td>\n",
       "      <td>Music</td>\n",
       "      <td>Music</td>\n",
       "      <td>USD</td>\n",
       "      <td>2457514.5</td>\n",
       "      <td>3000.0</td>\n",
       "      <td>2.457459e+06</td>\n",
       "      <td>failed</td>\n",
       "      <td>N,0\"</td>\n",
       "      <td>3000.0</td>\n",
       "      <td>55.159086</td>\n",
       "    </tr>\n",
       "    <tr>\n",
       "      <th>263668</th>\n",
       "      <td>441060346</td>\n",
       "      <td>New EP/Music Development</td>\n",
       "      <td>Music</td>\n",
       "      <td>Music</td>\n",
       "      <td>USD</td>\n",
       "      <td>2457528.5</td>\n",
       "      <td>3000.0</td>\n",
       "      <td>2.457485e+06</td>\n",
       "      <td>failed</td>\n",
       "      <td>N,0\"</td>\n",
       "      <td>3000.0</td>\n",
       "      <td>43.214873</td>\n",
       "    </tr>\n",
       "  </tbody>\n",
       "</table>\n",
       "</div>"
      ],
      "text/plain": [
       "                ID                      name category main_category currency  \\\n",
       "129643  1672411097  New EP/Music Development    Music         Music      USD   \n",
       "263668   441060346  New EP/Music Development    Music         Music      USD   \n",
       "\n",
       "         deadline    goal      launched   state country  usd_goal_real  \\\n",
       "129643  2457514.5  3000.0  2.457459e+06  failed    N,0\"         3000.0   \n",
       "263668  2457528.5  3000.0  2.457485e+06  failed    N,0\"         3000.0   \n",
       "\n",
       "         interval  \n",
       "129643  55.159086  \n",
       "263668  43.214873  "
      ]
     },
     "execution_count": 45,
     "metadata": {},
     "output_type": "execute_result"
    }
   ],
   "source": [
    "# N,0\"とは\n",
    "data_N0 = data[data.country=='N,0\"']\n",
    "data_N0[data_N0.duplicated(subset='name', keep=False)]"
   ]
  },
  {
   "cell_type": "code",
   "execution_count": 46,
   "metadata": {},
   "outputs": [
    {
     "data": {
      "text/plain": [
       "(array([ 0,  1,  2,  3,  4,  5,  6,  7,  8,  9, 10, 11, 12, 13, 14, 15, 16,\n",
       "        17, 18, 19, 20, 21, 22]),\n",
       " [Text(0, 0, 'US'),\n",
       "  Text(1, 0, 'GB'),\n",
       "  Text(2, 0, 'CA'),\n",
       "  Text(3, 0, 'AU'),\n",
       "  Text(4, 0, 'DE'),\n",
       "  Text(5, 0, 'IT'),\n",
       "  Text(6, 0, 'NL'),\n",
       "  Text(7, 0, 'FR'),\n",
       "  Text(8, 0, 'ES'),\n",
       "  Text(9, 0, 'MX'),\n",
       "  Text(10, 0, 'SE'),\n",
       "  Text(11, 0, 'NZ'),\n",
       "  Text(12, 0, 'DK'),\n",
       "  Text(13, 0, 'IE'),\n",
       "  Text(14, 0, 'CH'),\n",
       "  Text(15, 0, 'NO'),\n",
       "  Text(16, 0, 'AT'),\n",
       "  Text(17, 0, 'BE'),\n",
       "  Text(18, 0, 'HK'),\n",
       "  Text(19, 0, 'SG'),\n",
       "  Text(20, 0, 'N,0\"'),\n",
       "  Text(21, 0, 'LU'),\n",
       "  Text(22, 0, 'JP')])"
      ]
     },
     "execution_count": 46,
     "metadata": {},
     "output_type": "execute_result"
    },
    {
     "data": {
      "image/png": "[encoded data removed]",
      "text/plain": [
       "<Figure size 1440x432 with 2 Axes>"
      ]
     },
     "metadata": {
      "needs_background": "light"
     },
     "output_type": "display_data"
    }
   ],
   "source": [
    "successful_country_counts = data[data.state=='successful']['country'].value_counts()\n",
    "notsuccessful_country_counts = data[data.state!='successful']['country'].value_counts()\n",
    "fig = plt.figure(figsize=(20.0, 6.0))\n",
    "plt.subplot(1, 2, 1)\n",
    "ax = sns.barplot(x=successful_country_counts.index, y=successful_country_counts.values)\n",
    "ax.set_title('country value counts ( successful )')\n",
    "plt.xticks(rotation=90)\n",
    "plt.subplot(1, 2, 2)\n",
    "ax = sns.barplot(x=notsuccessful_country_counts.index, y=notsuccessful_country_counts.values)\n",
    "ax.set_title('country value counts ( not successful )')\n",
    "plt.xticks(rotation=90)"
   ]
  },
  {
   "cell_type": "markdown",
   "metadata": {},
   "source": [
    "圧倒的にUSがおおくて、解釈に困る。各国のプロジェクト数で割ったものを算出してみる。\n",
    "つまり、ある国の人の企画が成功(失敗)した案件数/その国の人が今まで企画してきた案件数。\n",
    "この方法であれば国ごとに特徴が見れるはず"
   ]
  },
  {
   "cell_type": "code",
   "execution_count": 47,
   "metadata": {},
   "outputs": [
    {
     "data": {
      "text/plain": [
       "(array([ 0,  1,  2,  3,  4,  5,  6,  7,  8,  9, 10, 11, 12, 13, 14, 15, 16,\n",
       "        17, 18, 19, 20, 21, 22]),\n",
       " [Text(0, 0, 'IT'),\n",
       "  Text(1, 0, 'AT'),\n",
       "  Text(2, 0, 'NL'),\n",
       "  Text(3, 0, 'ES'),\n",
       "  Text(4, 0, 'JP'),\n",
       "  Text(5, 0, 'DE'),\n",
       "  Text(6, 0, 'NO'),\n",
       "  Text(7, 0, 'MX'),\n",
       "  Text(8, 0, 'CH'),\n",
       "  Text(9, 0, 'BE'),\n",
       "  Text(10, 0, 'IE'),\n",
       "  Text(11, 0, 'AU'),\n",
       "  Text(12, 0, 'CA'),\n",
       "  Text(13, 0, 'SE'),\n",
       "  Text(14, 0, 'LU'),\n",
       "  Text(15, 0, 'NZ'),\n",
       "  Text(16, 0, 'FR'),\n",
       "  Text(17, 0, 'DK'),\n",
       "  Text(18, 0, 'SG'),\n",
       "  Text(19, 0, 'GB'),\n",
       "  Text(20, 0, 'US'),\n",
       "  Text(21, 0, 'HK'),\n",
       "  Text(22, 0, 'N,0\"')])"
      ]
     },
     "execution_count": 47,
     "metadata": {},
     "output_type": "execute_result"
    },
    {
     "data": {
      "image/png": "[encoded data removed]",
      "text/plain": [
       "<Figure size 1440x432 with 2 Axes>"
      ]
     },
     "metadata": {
      "needs_background": "light"
     },
     "output_type": "display_data"
    }
   ],
   "source": [
    "successful_country = (successful_country_counts / data.country.value_counts()).sort_values(ascending=False)\n",
    "notsuccessful_country = (notsuccessful_country_counts / data.country.value_counts()).sort_values(ascending=False)\n",
    "fig = plt.figure(figsize=(20.0, 6.0))\n",
    "plt.subplot(1, 2, 1)\n",
    "ax = sns.barplot(x=successful_country.index, y=successful_country.values)\n",
    "ax.set_title('country value counts rate ( successful )')\n",
    "plt.xticks(rotation=90)\n",
    "plt.subplot(1, 2, 2)\n",
    "ax = sns.barplot(x=notsuccessful_country.index, y=notsuccessful_country.values)\n",
    "ax.set_title('country value counts rate ( not successful )')\n",
    "plt.xticks(rotation=90)"
   ]
  },
  {
   "cell_type": "markdown",
   "metadata": {},
   "source": [
    "ITが成功しない企画が多い。N,0\"は何かわからんが、一番成功率が高い"
   ]
  },
  {
   "cell_type": "code",
   "execution_count": 48,
   "metadata": {},
   "outputs": [
    {
     "name": "stdout",
     "output_type": "stream",
     "text": [
      "N,0\": number of projects  232\n",
      "IT: number of projects  2775\n"
     ]
    }
   ],
   "source": [
    "print('N,0\": number of projects ', len(data[data.country=='N,0\"']))\n",
    "print('IT: number of projects ', len(data[data.country=='IT']))"
   ]
  },
  {
   "cell_type": "markdown",
   "metadata": {},
   "source": [
    "# 3. 前処理・学習データの作成"
   ]
  },
  {
   "cell_type": "markdown",
   "metadata": {},
   "source": [
    "ここまでのrawデータに対する処理まとめ\n",
    "* pledged, usd pledged, usd_pledged_real, backersカラムの除去\n",
    "* 欠損値を持つプロジェクトデータの除去\n",
    "* 目的変数stateの分類項目を successful, failed, canceledに限定\n",
    "* 時間的におかしいプロジェクトの除去\n",
    "* 時間データをジュリアン時間にした"
   ]
  },
  {
   "cell_type": "code",
   "execution_count": 49,
   "metadata": {},
   "outputs": [],
   "source": [
    "################ CONFIG ################\n",
    "# preprocess confing\n",
    "ID_col = 'ID'\n",
    "TARGET = 'state'\n",
    "\n",
    "\n",
    "# train config\n",
    "SEED = 42\n",
    "batch_size = 128\n",
    "epochs = 50\n",
    "num_classes = 2\n",
    "cv_fold = 5\n",
    "\n",
    "es = EarlyStopping(monitor='val_loss',\n",
    "                   min_delta=0,\n",
    "                   patience=5,\n",
    "                   verbose=1,\n",
    "                   mode='auto',\n",
    "                   baseline=None,\n",
    "                   restore_best_weights=True)\n",
    "\n",
    "# 再現性の確保\n",
    "seed_everything(SEED)"
   ]
  },
  {
   "cell_type": "code",
   "execution_count": 50,
   "metadata": {},
   "outputs": [],
   "source": [
    "num_col = []\n",
    "cat_col = []\n",
    "for col in data.columns:\n",
    "    if data[col].dtype == 'object' and col != TARGET:\n",
    "        cat_col.append(col)\n",
    "    if (data[col].dtype == 'int' or data[col].dtype == 'float') and col != ID_col:\n",
    "        num_col.append(col)"
   ]
  },
  {
   "cell_type": "markdown",
   "metadata": {},
   "source": [
    "categorical dataをダミー変数化"
   ]
  },
  {
   "cell_type": "code",
   "execution_count": 51,
   "metadata": {},
   "outputs": [],
   "source": [
    "for col in cat_col:\n",
    "    data[col], _ = data[col].factorize()"
   ]
  },
  {
   "cell_type": "markdown",
   "metadata": {},
   "source": [
    "目的変数stateに対しての処理  \n",
    "successful: 0, successful以外: 1(failed: 1, canceled: 1, suspended: 1)"
   ]
  },
  {
   "cell_type": "code",
   "execution_count": 52,
   "metadata": {},
   "outputs": [],
   "source": [
    "relabeling = {\n",
    "    'successful': 0,\n",
    "    'failed': 1,\n",
    "    'canceled': 1,\n",
    "    'suspended': 1\n",
    "}\n",
    "\n",
    "data['state'] = data['state'].replace(relabeling)"
   ]
  },
  {
   "cell_type": "markdown",
   "metadata": {},
   "source": [
    "白色化(無相関化・標準化)処理を行う"
   ]
  },
  {
   "cell_type": "code",
   "execution_count": 53,
   "metadata": {},
   "outputs": [],
   "source": [
    "X = data.drop(['ID', 'state'], axis=1)\n",
    "\n",
    "# 無相関化\n",
    "cov = np.cov(X, rowvar=0)\n",
    "_, S = np.linalg.eig(cov)\n",
    "X_decorr = np.dot(S.T, X.T).T\n",
    "\n",
    "# 標準化\n",
    "std = StandardScaler()\n",
    "X_std = std.fit_transform(X_decorr)\n",
    "\n",
    "y = data.state\n",
    "\n",
    "# yに対して、層化抽出処理で訓練データとテストデータでバランスが崩れないようにする\n",
    "X_train, X_valid, y_train, y_valid = train_test_split(X_std, y, test_size=0.2, random_state=42, stratify=y)\n",
    "# nn用\n",
    "y_tr_nn = keras.utils.to_categorical(y_train, num_classes)\n",
    "y_vl_nn = keras.utils.to_categorical(y_valid, num_classes)"
   ]
  },
  {
   "cell_type": "code",
   "execution_count": 54,
   "metadata": {},
   "outputs": [
    {
     "data": {
      "text/plain": [
       "(array([107165.,      0.,      0.,      0.,      0.,      0.,      0.,\n",
       "             0.,      0., 189191.]),\n",
       " array([0. , 0.1, 0.2, 0.3, 0.4, 0.5, 0.6, 0.7, 0.8, 0.9, 1. ]),\n",
       " <BarContainer object of 10 artists>)"
      ]
     },
     "execution_count": 54,
     "metadata": {},
     "output_type": "execute_result"
    },
    {
     "data": {
      "image/png": "[encoded data removed]",
      "text/plain": [
       "<Figure size 432x288 with 1 Axes>"
      ]
     },
     "metadata": {
      "needs_background": "light"
     },
     "output_type": "display_data"
    }
   ],
   "source": [
    "plt.hist(y_train)"
   ]
  },
  {
   "cell_type": "code",
   "execution_count": 55,
   "metadata": {},
   "outputs": [
    {
     "data": {
      "text/plain": [
       "(array([26791.,     0.,     0.,     0.,     0.,     0.,     0.,     0.,\n",
       "            0., 47298.]),\n",
       " array([0. , 0.1, 0.2, 0.3, 0.4, 0.5, 0.6, 0.7, 0.8, 0.9, 1. ]),\n",
       " <BarContainer object of 10 artists>)"
      ]
     },
     "execution_count": 55,
     "metadata": {},
     "output_type": "execute_result"
    },
    {
     "data": {
      "image/png": "[encoded data removed]",
      "text/plain": [
       "<Figure size 432x288 with 1 Axes>"
      ]
     },
     "metadata": {
      "needs_background": "light"
     },
     "output_type": "display_data"
    }
   ],
   "source": [
    "plt.hist(y_valid)"
   ]
  },
  {
   "cell_type": "markdown",
   "metadata": {},
   "source": [
    "# 4. 各モデルでの学習"
   ]
  },
  {
   "cell_type": "markdown",
   "metadata": {},
   "source": [
    "#### ロジスティック回帰"
   ]
  },
  {
   "cell_type": "code",
   "execution_count": 56,
   "metadata": {},
   "outputs": [
    {
     "data": {
      "text/plain": [
       "LogisticRegression(random_state=42)"
      ]
     },
     "execution_count": 56,
     "metadata": {},
     "output_type": "execute_result"
    }
   ],
   "source": [
    "logit_clf = LogisticRegression(random_state=SEED)\n",
    "logit_clf.fit(X_train, y_train)"
   ]
  },
  {
   "cell_type": "markdown",
   "metadata": {},
   "source": [
    "#### サポートベクトルマシン"
   ]
  },
  {
   "cell_type": "code",
   "execution_count": 57,
   "metadata": {},
   "outputs": [
    {
     "data": {
      "text/plain": [
       "LinearSVC(random_state=42)"
      ]
     },
     "execution_count": 57,
     "metadata": {},
     "output_type": "execute_result"
    }
   ],
   "source": [
    "# スパースマトリックス化\n",
    "X_tr, X_vl = csr_matrix(X_train, dtype='float32'), csr_matrix(X_valid, dtype='float32')\n",
    "svm_clf = LinearSVC(random_state=SEED)\n",
    "svm_clf.fit(X_tr, y_train)"
   ]
  },
  {
   "cell_type": "markdown",
   "metadata": {},
   "source": [
    "#### 決定木"
   ]
  },
  {
   "cell_type": "code",
   "execution_count": 58,
   "metadata": {},
   "outputs": [
    {
     "data": {
      "text/plain": [
       "DecisionTreeClassifier(random_state=42)"
      ]
     },
     "execution_count": 58,
     "metadata": {},
     "output_type": "execute_result"
    }
   ],
   "source": [
    "tree_clf = DecisionTreeClassifier(random_state=SEED)\n",
    "tree_clf.fit(X_train, y_train)"
   ]
  },
  {
   "cell_type": "markdown",
   "metadata": {},
   "source": [
    "#### ランダムフォレスト"
   ]
  },
  {
   "cell_type": "code",
   "execution_count": 59,
   "metadata": {},
   "outputs": [
    {
     "data": {
      "text/plain": [
       "RandomForestClassifier(n_jobs=-1, random_state=42)"
      ]
     },
     "execution_count": 59,
     "metadata": {},
     "output_type": "execute_result"
    }
   ],
   "source": [
    "rforest_clf = RandomForestClassifier(random_state=SEED, n_jobs=-1)\n",
    "rforest_clf.fit(X_train, y_train)"
   ]
  },
  {
   "cell_type": "markdown",
   "metadata": {},
   "source": [
    "# 5. 作成したモデルの評価"
   ]
  },
  {
   "cell_type": "markdown",
   "metadata": {},
   "source": [
    "#### ロジスティック回帰"
   ]
  },
  {
   "cell_type": "code",
   "execution_count": 60,
   "metadata": {},
   "outputs": [
    {
     "name": "stdout",
     "output_type": "stream",
     "text": [
      "accuracy =  0.6459258459420427\n",
      "precision =  0.6053687494421447\n",
      "recall =  0.5273337154537646\n",
      "f1 score =  0.47156646101232336\n",
      "confusion matrix = \n",
      " [[ 2649 24142]\n",
      " [ 2091 45207]]\n",
      "confusion matrix plot:\n"
     ]
    },
    {
     "data": {
      "image/png": "[encoded data removed]",
      "text/plain": [
       "<Figure size 432x288 with 2 Axes>"
      ]
     },
     "metadata": {
      "needs_background": "light"
     },
     "output_type": "display_data"
    }
   ],
   "source": [
    "print_validation_scores(y_valid, logit_clf.predict(X_valid))"
   ]
  },
  {
   "cell_type": "markdown",
   "metadata": {},
   "source": [
    "#### サポートベクトルマシン"
   ]
  },
  {
   "cell_type": "code",
   "execution_count": 61,
   "metadata": {},
   "outputs": [
    {
     "name": "stdout",
     "output_type": "stream",
     "text": [
      "accuracy =  0.6430914170794585\n",
      "precision =  0.6021527494347133\n",
      "recall =  0.5173133377545247\n",
      "f1 score =  0.4448178741619166\n",
      "confusion matrix = \n",
      " [[ 1685 25106]\n",
      " [ 1337 45961]]\n",
      "confusion matrix plot:\n"
     ]
    },
    {
     "data": {
      "image/png": "[encoded data removed]",
      "text/plain": [
       "<Figure size 432x288 with 2 Axes>"
      ]
     },
     "metadata": {
      "needs_background": "light"
     },
     "output_type": "display_data"
    }
   ],
   "source": [
    "print_validation_scores(y_valid, svm_clf.predict(X_vl))"
   ]
  },
  {
   "cell_type": "markdown",
   "metadata": {},
   "source": [
    "#### 決定木"
   ]
  },
  {
   "cell_type": "code",
   "execution_count": 62,
   "metadata": {},
   "outputs": [
    {
     "name": "stdout",
     "output_type": "stream",
     "text": [
      "accuracy =  0.613640351469179\n",
      "precision =  0.5829225680745782\n",
      "recall =  0.583563143961033\n",
      "f1 score =  0.5832142155063279\n",
      "confusion matrix = \n",
      " [[12723 14068]\n",
      " [14557 32741]]\n",
      "confusion matrix plot:\n"
     ]
    },
    {
     "data": {
      "image/png": "[encoded data removed]",
      "text/plain": [
       "<Figure size 432x288 with 2 Axes>"
      ]
     },
     "metadata": {
      "needs_background": "light"
     },
     "output_type": "display_data"
    }
   ],
   "source": [
    "print_validation_scores(y_valid, tree_clf.predict(X_valid))"
   ]
  },
  {
   "cell_type": "markdown",
   "metadata": {},
   "source": [
    "#### ランダムフォレスト"
   ]
  },
  {
   "cell_type": "code",
   "execution_count": 63,
   "metadata": {},
   "outputs": [
    {
     "name": "stdout",
     "output_type": "stream",
     "text": [
      "accuracy =  0.6845820567155718\n",
      "precision =  0.6533630353085222\n",
      "recall =  0.6328951285404351\n",
      "f1 score =  0.6370404352871256\n",
      "confusion matrix = \n",
      " [[11953 14838]\n",
      " [ 8531 38767]]\n",
      "confusion matrix plot:\n"
     ]
    },
    {
     "data": {
      "image/png": "[encoded data removed]",
      "text/plain": [
       "<Figure size 432x288 with 2 Axes>"
      ]
     },
     "metadata": {
      "needs_background": "light"
     },
     "output_type": "display_data"
    }
   ],
   "source": [
    "print_validation_scores(y_valid, rforest_clf.predict(X_valid))"
   ]
  },
  {
   "cell_type": "markdown",
   "metadata": {},
   "source": [
    "# 6. パラメタチューニングによるモデルの改善・学習"
   ]
  },
  {
   "cell_type": "markdown",
   "metadata": {},
   "source": [
    "今回はグリッドサーチを用いる"
   ]
  },
  {
   "cell_type": "code",
   "execution_count": 64,
   "metadata": {},
   "outputs": [],
   "source": [
    "def gridsearchCV(sklmodel, params, x_train, y_train, cv=cv_fold):\n",
    "    gscv = GridSearchCV(sklmodel, params, cv=cv, verbose=2)\n",
    "    gscv.fit(x_train, y_train)\n",
    "    best_model = gscv.best_estimator_\n",
    "    return best_model"
   ]
  },
  {
   "cell_type": "markdown",
   "metadata": {},
   "source": [
    "#### ロジスティック回帰"
   ]
  },
  {
   "cell_type": "code",
   "execution_count": 65,
   "metadata": {},
   "outputs": [
    {
     "name": "stdout",
     "output_type": "stream",
     "text": [
      "Fitting 5 folds for each of 12 candidates, totalling 60 fits\n",
      "[CV] C=0.1, penalty=l1 ...............................................\n",
      "[CV] ................................ C=0.1, penalty=l1, total=   0.0s\n",
      "[CV] C=0.1, penalty=l1 ...............................................\n",
      "[CV] ................................ C=0.1, penalty=l1, total=   0.0s\n",
      "[CV] C=0.1, penalty=l1 ...............................................\n",
      "[CV] ................................ C=0.1, penalty=l1, total=   0.0s\n",
      "[CV] C=0.1, penalty=l1 ...............................................\n",
      "[CV] ................................ C=0.1, penalty=l1, total=   0.0s\n",
      "[CV] C=0.1, penalty=l1 ...............................................\n",
      "[CV] ................................ C=0.1, penalty=l1, total=   0.0s\n",
      "[CV] C=0.1, penalty=l2 ...............................................\n"
     ]
    },
    {
     "name": "stderr",
     "output_type": "stream",
     "text": [
      "[Parallel(n_jobs=1)]: Using backend SequentialBackend with 1 concurrent workers.\n",
      "[Parallel(n_jobs=1)]: Done   1 out of   1 | elapsed:    0.0s remaining:    0.0s\n"
     ]
    },
    {
     "name": "stdout",
     "output_type": "stream",
     "text": [
      "[CV] ................................ C=0.1, penalty=l2, total=   2.8s\n",
      "[CV] C=0.1, penalty=l2 ...............................................\n",
      "[CV] ................................ C=0.1, penalty=l2, total=   2.4s\n",
      "[CV] C=0.1, penalty=l2 ...............................................\n",
      "[CV] ................................ C=0.1, penalty=l2, total=   2.4s\n",
      "[CV] C=0.1, penalty=l2 ...............................................\n",
      "[CV] ................................ C=0.1, penalty=l2, total=   2.4s\n",
      "[CV] C=0.1, penalty=l2 ...............................................\n",
      "[CV] ................................ C=0.1, penalty=l2, total=   2.5s\n",
      "[CV] C=0.1, penalty=elasticnet .......................................\n",
      "[CV] ........................ C=0.1, penalty=elasticnet, total=   0.0s\n",
      "[CV] C=0.1, penalty=elasticnet .......................................\n",
      "[CV] ........................ C=0.1, penalty=elasticnet, total=   0.0s\n",
      "[CV] C=0.1, penalty=elasticnet .......................................\n",
      "[CV] ........................ C=0.1, penalty=elasticnet, total=   0.0s\n",
      "[CV] C=0.1, penalty=elasticnet .......................................\n",
      "[CV] ........................ C=0.1, penalty=elasticnet, total=   0.0s\n",
      "[CV] C=0.1, penalty=elasticnet .......................................\n",
      "[CV] ........................ C=0.1, penalty=elasticnet, total=   0.0s\n",
      "[CV] C=1, penalty=l1 .................................................\n",
      "[CV] .................................. C=1, penalty=l1, total=   0.0s\n",
      "[CV] C=1, penalty=l1 .................................................\n",
      "[CV] .................................. C=1, penalty=l1, total=   0.0s\n",
      "[CV] C=1, penalty=l1 .................................................\n",
      "[CV] .................................. C=1, penalty=l1, total=   0.0s\n",
      "[CV] C=1, penalty=l1 .................................................\n",
      "[CV] .................................. C=1, penalty=l1, total=   0.0s\n",
      "[CV] C=1, penalty=l1 .................................................\n",
      "[CV] .................................. C=1, penalty=l1, total=   0.0s\n",
      "[CV] C=1, penalty=l2 .................................................\n",
      "[CV] .................................. C=1, penalty=l2, total=   2.5s\n",
      "[CV] C=1, penalty=l2 .................................................\n",
      "[CV] .................................. C=1, penalty=l2, total=   2.6s\n",
      "[CV] C=1, penalty=l2 .................................................\n",
      "[CV] .................................. C=1, penalty=l2, total=   2.5s\n",
      "[CV] C=1, penalty=l2 .................................................\n",
      "[CV] .................................. C=1, penalty=l2, total=   2.5s\n",
      "[CV] C=1, penalty=l2 .................................................\n",
      "[CV] .................................. C=1, penalty=l2, total=   2.5s\n",
      "[CV] C=1, penalty=elasticnet .........................................\n",
      "[CV] .......................... C=1, penalty=elasticnet, total=   0.0s\n",
      "[CV] C=1, penalty=elasticnet .........................................\n",
      "[CV] .......................... C=1, penalty=elasticnet, total=   0.0s\n",
      "[CV] C=1, penalty=elasticnet .........................................\n",
      "[CV] .......................... C=1, penalty=elasticnet, total=   0.0s\n",
      "[CV] C=1, penalty=elasticnet .........................................\n",
      "[CV] .......................... C=1, penalty=elasticnet, total=   0.0s\n",
      "[CV] C=1, penalty=elasticnet .........................................\n",
      "[CV] .......................... C=1, penalty=elasticnet, total=   0.0s\n",
      "[CV] C=10, penalty=l1 ................................................\n",
      "[CV] ................................. C=10, penalty=l1, total=   0.0s\n",
      "[CV] C=10, penalty=l1 ................................................\n",
      "[CV] ................................. C=10, penalty=l1, total=   0.0s\n",
      "[CV] C=10, penalty=l1 ................................................\n",
      "[CV] ................................. C=10, penalty=l1, total=   0.0s\n",
      "[CV] C=10, penalty=l1 ................................................\n",
      "[CV] ................................. C=10, penalty=l1, total=   0.0s\n",
      "[CV] C=10, penalty=l1 ................................................\n",
      "[CV] ................................. C=10, penalty=l1, total=   0.0s\n",
      "[CV] C=10, penalty=l2 ................................................\n",
      "[CV] ................................. C=10, penalty=l2, total=   2.5s\n",
      "[CV] C=10, penalty=l2 ................................................\n",
      "[CV] ................................. C=10, penalty=l2, total=   2.5s\n",
      "[CV] C=10, penalty=l2 ................................................\n",
      "[CV] ................................. C=10, penalty=l2, total=   2.5s\n",
      "[CV] C=10, penalty=l2 ................................................\n",
      "[CV] ................................. C=10, penalty=l2, total=   2.6s\n",
      "[CV] C=10, penalty=l2 ................................................\n",
      "[CV] ................................. C=10, penalty=l2, total=   2.5s\n",
      "[CV] C=10, penalty=elasticnet ........................................\n",
      "[CV] ......................... C=10, penalty=elasticnet, total=   0.0s\n",
      "[CV] C=10, penalty=elasticnet ........................................\n",
      "[CV] ......................... C=10, penalty=elasticnet, total=   0.0s\n",
      "[CV] C=10, penalty=elasticnet ........................................\n",
      "[CV] ......................... C=10, penalty=elasticnet, total=   0.0s\n",
      "[CV] C=10, penalty=elasticnet ........................................\n",
      "[CV] ......................... C=10, penalty=elasticnet, total=   0.0s\n",
      "[CV] C=10, penalty=elasticnet ........................................\n",
      "[CV] ......................... C=10, penalty=elasticnet, total=   0.0s\n",
      "[CV] C=100, penalty=l1 ...............................................\n",
      "[CV] ................................ C=100, penalty=l1, total=   0.0s\n",
      "[CV] C=100, penalty=l1 ...............................................\n",
      "[CV] ................................ C=100, penalty=l1, total=   0.0s\n",
      "[CV] C=100, penalty=l1 ...............................................\n",
      "[CV] ................................ C=100, penalty=l1, total=   0.0s\n",
      "[CV] C=100, penalty=l1 ...............................................\n",
      "[CV] ................................ C=100, penalty=l1, total=   0.0s\n",
      "[CV] C=100, penalty=l1 ...............................................\n",
      "[CV] ................................ C=100, penalty=l1, total=   0.0s\n",
      "[CV] C=100, penalty=l2 ...............................................\n",
      "[CV] ................................ C=100, penalty=l2, total=   2.6s\n",
      "[CV] C=100, penalty=l2 ...............................................\n",
      "[CV] ................................ C=100, penalty=l2, total=   1.9s\n",
      "[CV] C=100, penalty=l2 ...............................................\n",
      "[CV] ................................ C=100, penalty=l2, total=   1.9s\n",
      "[CV] C=100, penalty=l2 ...............................................\n",
      "[CV] ................................ C=100, penalty=l2, total=   1.9s\n",
      "[CV] C=100, penalty=l2 ...............................................\n",
      "[CV] ................................ C=100, penalty=l2, total=   2.0s\n",
      "[CV] C=100, penalty=elasticnet .......................................\n",
      "[CV] ........................ C=100, penalty=elasticnet, total=   0.0s\n",
      "[CV] C=100, penalty=elasticnet .......................................\n",
      "[CV] ........................ C=100, penalty=elasticnet, total=   0.0s\n",
      "[CV] C=100, penalty=elasticnet .......................................\n",
      "[CV] ........................ C=100, penalty=elasticnet, total=   0.0s\n",
      "[CV] C=100, penalty=elasticnet .......................................\n",
      "[CV] ........................ C=100, penalty=elasticnet, total=   0.0s\n",
      "[CV] C=100, penalty=elasticnet .......................................\n",
      "[CV] ........................ C=100, penalty=elasticnet, total=   0.0s\n"
     ]
    },
    {
     "name": "stderr",
     "output_type": "stream",
     "text": [
      "[Parallel(n_jobs=1)]: Done  60 out of  60 | elapsed:   48.5s finished\n"
     ]
    }
   ],
   "source": [
    "logit_params = {\n",
    "    'penalty':['l1', 'l2', 'elasticnet'],\n",
    "    'C':[0.1, 1, 10, 100],\n",
    "}\n",
    "best_logit = gridsearchCV(LogisticRegression(random_state=SEED, n_jobs=-1), \n",
    "                          logit_params, X_train, y_train)"
   ]
  },
  {
   "cell_type": "markdown",
   "metadata": {},
   "source": [
    "#### サポートベクトルマシン"
   ]
  },
  {
   "cell_type": "code",
   "execution_count": 66,
   "metadata": {},
   "outputs": [
    {
     "name": "stdout",
     "output_type": "stream",
     "text": [
      "Fitting 5 folds for each of 3 candidates, totalling 15 fits\n",
      "[CV] C=1 .............................................................\n"
     ]
    },
    {
     "name": "stderr",
     "output_type": "stream",
     "text": [
      "[Parallel(n_jobs=1)]: Using backend SequentialBackend with 1 concurrent workers.\n"
     ]
    },
    {
     "name": "stdout",
     "output_type": "stream",
     "text": [
      "[CV] .............................................. C=1, total=  40.8s\n",
      "[CV] C=1 .............................................................\n"
     ]
    },
    {
     "name": "stderr",
     "output_type": "stream",
     "text": [
      "[Parallel(n_jobs=1)]: Done   1 out of   1 | elapsed:   40.7s remaining:    0.0s\n"
     ]
    },
    {
     "name": "stdout",
     "output_type": "stream",
     "text": [
      "[CV] .............................................. C=1, total=  38.9s\n",
      "[CV] C=1 .............................................................\n",
      "[CV] .............................................. C=1, total=  38.2s\n",
      "[CV] C=1 .............................................................\n",
      "[CV] .............................................. C=1, total=  40.3s\n",
      "[CV] C=1 .............................................................\n",
      "[CV] .............................................. C=1, total=  39.3s\n",
      "[CV] C=10 ............................................................\n",
      "[CV] ............................................. C=10, total=  38.8s\n",
      "[CV] C=10 ............................................................\n",
      "[CV] ............................................. C=10, total=  39.3s\n",
      "[CV] C=10 ............................................................\n",
      "[CV] ............................................. C=10, total=  39.1s\n",
      "[CV] C=10 ............................................................\n",
      "[CV] ............................................. C=10, total=  39.5s\n",
      "[CV] C=10 ............................................................\n",
      "[CV] ............................................. C=10, total=  39.5s\n",
      "[CV] C=100 ...........................................................\n",
      "[CV] ............................................ C=100, total=  39.2s\n",
      "[CV] C=100 ...........................................................\n",
      "[CV] ............................................ C=100, total=  40.1s\n",
      "[CV] C=100 ...........................................................\n",
      "[CV] ............................................ C=100, total=  39.1s\n",
      "[CV] C=100 ...........................................................\n",
      "[CV] ............................................ C=100, total=  40.1s\n",
      "[CV] C=100 ...........................................................\n",
      "[CV] ............................................ C=100, total=  39.5s\n"
     ]
    },
    {
     "name": "stderr",
     "output_type": "stream",
     "text": [
      "[Parallel(n_jobs=1)]: Done  15 out of  15 | elapsed:  9.9min finished\n"
     ]
    }
   ],
   "source": [
    "svm_params = {\n",
    "    'C':[1, 10, 100],\n",
    "}\n",
    "best_linearsvm = gridsearchCV(LinearSVC(random_state=SEED), \n",
    "                          svm_params, X_tr, y_train)"
   ]
  },
  {
   "cell_type": "markdown",
   "metadata": {},
   "source": [
    "#### 決定木"
   ]
  },
  {
   "cell_type": "code",
   "execution_count": 67,
   "metadata": {},
   "outputs": [
    {
     "name": "stdout",
     "output_type": "stream",
     "text": [
      "Fitting 5 folds for each of 12 candidates, totalling 60 fits\n",
      "[CV] criterion=gini, max_depth=5, splitter=best ......................\n"
     ]
    },
    {
     "name": "stderr",
     "output_type": "stream",
     "text": [
      "[Parallel(n_jobs=1)]: Using backend SequentialBackend with 1 concurrent workers.\n"
     ]
    },
    {
     "name": "stdout",
     "output_type": "stream",
     "text": [
      "[CV] ....... criterion=gini, max_depth=5, splitter=best, total=   1.4s\n",
      "[CV] criterion=gini, max_depth=5, splitter=best ......................\n"
     ]
    },
    {
     "name": "stderr",
     "output_type": "stream",
     "text": [
      "[Parallel(n_jobs=1)]: Done   1 out of   1 | elapsed:    1.3s remaining:    0.0s\n"
     ]
    },
    {
     "name": "stdout",
     "output_type": "stream",
     "text": [
      "[CV] ....... criterion=gini, max_depth=5, splitter=best, total=   1.4s\n",
      "[CV] criterion=gini, max_depth=5, splitter=best ......................\n",
      "[CV] ....... criterion=gini, max_depth=5, splitter=best, total=   1.4s\n",
      "[CV] criterion=gini, max_depth=5, splitter=best ......................\n",
      "[CV] ....... criterion=gini, max_depth=5, splitter=best, total=   1.4s\n",
      "[CV] criterion=gini, max_depth=5, splitter=best ......................\n",
      "[CV] ....... criterion=gini, max_depth=5, splitter=best, total=   1.4s\n",
      "[CV] criterion=gini, max_depth=5, splitter=random ....................\n",
      "[CV] ..... criterion=gini, max_depth=5, splitter=random, total=   0.1s\n",
      "[CV] criterion=gini, max_depth=5, splitter=random ....................\n",
      "[CV] ..... criterion=gini, max_depth=5, splitter=random, total=   0.1s\n",
      "[CV] criterion=gini, max_depth=5, splitter=random ....................\n",
      "[CV] ..... criterion=gini, max_depth=5, splitter=random, total=   0.1s\n",
      "[CV] criterion=gini, max_depth=5, splitter=random ....................\n",
      "[CV] ..... criterion=gini, max_depth=5, splitter=random, total=   0.1s\n",
      "[CV] criterion=gini, max_depth=5, splitter=random ....................\n",
      "[CV] ..... criterion=gini, max_depth=5, splitter=random, total=   0.1s\n",
      "[CV] criterion=gini, max_depth=10, splitter=best .....................\n",
      "[CV] ...... criterion=gini, max_depth=10, splitter=best, total=   2.5s\n",
      "[CV] criterion=gini, max_depth=10, splitter=best .....................\n",
      "[CV] ...... criterion=gini, max_depth=10, splitter=best, total=   2.5s\n",
      "[CV] criterion=gini, max_depth=10, splitter=best .....................\n",
      "[CV] ...... criterion=gini, max_depth=10, splitter=best, total=   2.5s\n",
      "[CV] criterion=gini, max_depth=10, splitter=best .....................\n",
      "[CV] ...... criterion=gini, max_depth=10, splitter=best, total=   2.5s\n",
      "[CV] criterion=gini, max_depth=10, splitter=best .....................\n",
      "[CV] ...... criterion=gini, max_depth=10, splitter=best, total=   2.5s\n",
      "[CV] criterion=gini, max_depth=10, splitter=random ...................\n",
      "[CV] .... criterion=gini, max_depth=10, splitter=random, total=   0.2s\n",
      "[CV] criterion=gini, max_depth=10, splitter=random ...................\n",
      "[CV] .... criterion=gini, max_depth=10, splitter=random, total=   0.2s\n",
      "[CV] criterion=gini, max_depth=10, splitter=random ...................\n",
      "[CV] .... criterion=gini, max_depth=10, splitter=random, total=   0.2s\n",
      "[CV] criterion=gini, max_depth=10, splitter=random ...................\n",
      "[CV] .... criterion=gini, max_depth=10, splitter=random, total=   0.2s\n",
      "[CV] criterion=gini, max_depth=10, splitter=random ...................\n",
      "[CV] .... criterion=gini, max_depth=10, splitter=random, total=   0.2s\n",
      "[CV] criterion=gini, max_depth=15, splitter=best .....................\n",
      "[CV] ...... criterion=gini, max_depth=15, splitter=best, total=   3.3s\n",
      "[CV] criterion=gini, max_depth=15, splitter=best .....................\n",
      "[CV] ...... criterion=gini, max_depth=15, splitter=best, total=   3.3s\n",
      "[CV] criterion=gini, max_depth=15, splitter=best .....................\n",
      "[CV] ...... criterion=gini, max_depth=15, splitter=best, total=   3.3s\n",
      "[CV] criterion=gini, max_depth=15, splitter=best .....................\n",
      "[CV] ...... criterion=gini, max_depth=15, splitter=best, total=   3.3s\n",
      "[CV] criterion=gini, max_depth=15, splitter=best .....................\n",
      "[CV] ...... criterion=gini, max_depth=15, splitter=best, total=   3.3s\n",
      "[CV] criterion=gini, max_depth=15, splitter=random ...................\n",
      "[CV] .... criterion=gini, max_depth=15, splitter=random, total=   0.3s\n",
      "[CV] criterion=gini, max_depth=15, splitter=random ...................\n",
      "[CV] .... criterion=gini, max_depth=15, splitter=random, total=   0.3s\n",
      "[CV] criterion=gini, max_depth=15, splitter=random ...................\n",
      "[CV] .... criterion=gini, max_depth=15, splitter=random, total=   0.3s\n",
      "[CV] criterion=gini, max_depth=15, splitter=random ...................\n",
      "[CV] .... criterion=gini, max_depth=15, splitter=random, total=   0.3s\n",
      "[CV] criterion=gini, max_depth=15, splitter=random ...................\n",
      "[CV] .... criterion=gini, max_depth=15, splitter=random, total=   0.3s\n",
      "[CV] criterion=entropy, max_depth=5, splitter=best ...................\n",
      "[CV] .... criterion=entropy, max_depth=5, splitter=best, total=   1.8s\n",
      "[CV] criterion=entropy, max_depth=5, splitter=best ...................\n",
      "[CV] .... criterion=entropy, max_depth=5, splitter=best, total=   1.8s\n",
      "[CV] criterion=entropy, max_depth=5, splitter=best ...................\n",
      "[CV] .... criterion=entropy, max_depth=5, splitter=best, total=   1.8s\n",
      "[CV] criterion=entropy, max_depth=5, splitter=best ...................\n",
      "[CV] .... criterion=entropy, max_depth=5, splitter=best, total=   1.8s\n",
      "[CV] criterion=entropy, max_depth=5, splitter=best ...................\n",
      "[CV] .... criterion=entropy, max_depth=5, splitter=best, total=   1.9s\n",
      "[CV] criterion=entropy, max_depth=5, splitter=random .................\n",
      "[CV] .. criterion=entropy, max_depth=5, splitter=random, total=   0.1s\n",
      "[CV] criterion=entropy, max_depth=5, splitter=random .................\n",
      "[CV] .. criterion=entropy, max_depth=5, splitter=random, total=   0.1s\n",
      "[CV] criterion=entropy, max_depth=5, splitter=random .................\n",
      "[CV] .. criterion=entropy, max_depth=5, splitter=random, total=   0.1s\n",
      "[CV] criterion=entropy, max_depth=5, splitter=random .................\n",
      "[CV] .. criterion=entropy, max_depth=5, splitter=random, total=   0.1s\n",
      "[CV] criterion=entropy, max_depth=5, splitter=random .................\n",
      "[CV] .. criterion=entropy, max_depth=5, splitter=random, total=   0.1s\n",
      "[CV] criterion=entropy, max_depth=10, splitter=best ..................\n",
      "[CV] ... criterion=entropy, max_depth=10, splitter=best, total=   3.4s\n",
      "[CV] criterion=entropy, max_depth=10, splitter=best ..................\n",
      "[CV] ... criterion=entropy, max_depth=10, splitter=best, total=   3.4s\n",
      "[CV] criterion=entropy, max_depth=10, splitter=best ..................\n",
      "[CV] ... criterion=entropy, max_depth=10, splitter=best, total=   3.4s\n",
      "[CV] criterion=entropy, max_depth=10, splitter=best ..................\n",
      "[CV] ... criterion=entropy, max_depth=10, splitter=best, total=   3.4s\n",
      "[CV] criterion=entropy, max_depth=10, splitter=best ..................\n",
      "[CV] ... criterion=entropy, max_depth=10, splitter=best, total=   3.4s\n",
      "[CV] criterion=entropy, max_depth=10, splitter=random ................\n",
      "[CV] . criterion=entropy, max_depth=10, splitter=random, total=   0.2s\n",
      "[CV] criterion=entropy, max_depth=10, splitter=random ................\n",
      "[CV] . criterion=entropy, max_depth=10, splitter=random, total=   0.2s\n",
      "[CV] criterion=entropy, max_depth=10, splitter=random ................\n",
      "[CV] . criterion=entropy, max_depth=10, splitter=random, total=   0.2s\n",
      "[CV] criterion=entropy, max_depth=10, splitter=random ................\n",
      "[CV] . criterion=entropy, max_depth=10, splitter=random, total=   0.2s\n",
      "[CV] criterion=entropy, max_depth=10, splitter=random ................\n",
      "[CV] . criterion=entropy, max_depth=10, splitter=random, total=   0.2s\n",
      "[CV] criterion=entropy, max_depth=15, splitter=best ..................\n",
      "[CV] ... criterion=entropy, max_depth=15, splitter=best, total=   4.7s\n",
      "[CV] criterion=entropy, max_depth=15, splitter=best ..................\n",
      "[CV] ... criterion=entropy, max_depth=15, splitter=best, total=   4.7s\n",
      "[CV] criterion=entropy, max_depth=15, splitter=best ..................\n",
      "[CV] ... criterion=entropy, max_depth=15, splitter=best, total=   4.7s\n",
      "[CV] criterion=entropy, max_depth=15, splitter=best ..................\n",
      "[CV] ... criterion=entropy, max_depth=15, splitter=best, total=   4.7s\n",
      "[CV] criterion=entropy, max_depth=15, splitter=best ..................\n",
      "[CV] ... criterion=entropy, max_depth=15, splitter=best, total=   4.8s\n",
      "[CV] criterion=entropy, max_depth=15, splitter=random ................\n",
      "[CV] . criterion=entropy, max_depth=15, splitter=random, total=   0.3s\n",
      "[CV] criterion=entropy, max_depth=15, splitter=random ................\n",
      "[CV] . criterion=entropy, max_depth=15, splitter=random, total=   0.3s\n",
      "[CV] criterion=entropy, max_depth=15, splitter=random ................\n",
      "[CV] . criterion=entropy, max_depth=15, splitter=random, total=   0.3s\n",
      "[CV] criterion=entropy, max_depth=15, splitter=random ................\n",
      "[CV] . criterion=entropy, max_depth=15, splitter=random, total=   0.3s\n",
      "[CV] criterion=entropy, max_depth=15, splitter=random ................\n"
     ]
    },
    {
     "name": "stdout",
     "output_type": "stream",
     "text": [
      "[CV] . criterion=entropy, max_depth=15, splitter=random, total=   0.3s\n"
     ]
    },
    {
     "name": "stderr",
     "output_type": "stream",
     "text": [
      "[Parallel(n_jobs=1)]: Done  60 out of  60 | elapsed:  1.5min finished\n"
     ]
    }
   ],
   "source": [
    "tree_params = {\n",
    "    'criterion':['gini', 'entropy'],\n",
    "    'splitter':['best', 'random'],\n",
    "    'max_depth':np.arange(5, 20, 5),\n",
    "}\n",
    "best_tree = gridsearchCV(DecisionTreeClassifier(random_state=SEED), \n",
    "                          tree_params, X_train, y_train)"
   ]
  },
  {
   "cell_type": "markdown",
   "metadata": {},
   "source": [
    "#### ランダムフォレスト"
   ]
  },
  {
   "cell_type": "code",
   "execution_count": 69,
   "metadata": {},
   "outputs": [
    {
     "name": "stdout",
     "output_type": "stream",
     "text": [
      "Fitting 5 folds for each of 30 candidates, totalling 150 fits\n",
      "[CV] criterion=gini, max_depth=5, n_estimators=100 ...................\n"
     ]
    },
    {
     "name": "stderr",
     "output_type": "stream",
     "text": [
      "[Parallel(n_jobs=1)]: Using backend SequentialBackend with 1 concurrent workers.\n"
     ]
    },
    {
     "name": "stdout",
     "output_type": "stream",
     "text": [
      "[CV] .... criterion=gini, max_depth=5, n_estimators=100, total=   6.3s\n",
      "[CV] criterion=gini, max_depth=5, n_estimators=100 ...................\n"
     ]
    },
    {
     "name": "stderr",
     "output_type": "stream",
     "text": [
      "[Parallel(n_jobs=1)]: Done   1 out of   1 | elapsed:    6.2s remaining:    0.0s\n"
     ]
    },
    {
     "name": "stdout",
     "output_type": "stream",
     "text": [
      "[CV] .... criterion=gini, max_depth=5, n_estimators=100, total=   4.0s\n",
      "[CV] criterion=gini, max_depth=5, n_estimators=100 ...................\n",
      "[CV] .... criterion=gini, max_depth=5, n_estimators=100, total=   4.0s\n",
      "[CV] criterion=gini, max_depth=5, n_estimators=100 ...................\n",
      "[CV] .... criterion=gini, max_depth=5, n_estimators=100, total=   4.0s\n",
      "[CV] criterion=gini, max_depth=5, n_estimators=100 ...................\n",
      "[CV] .... criterion=gini, max_depth=5, n_estimators=100, total=   4.3s\n",
      "[CV] criterion=gini, max_depth=5, n_estimators=200 ...................\n",
      "[CV] .... criterion=gini, max_depth=5, n_estimators=200, total=   7.6s\n",
      "[CV] criterion=gini, max_depth=5, n_estimators=200 ...................\n",
      "[CV] .... criterion=gini, max_depth=5, n_estimators=200, total=   7.5s\n",
      "[CV] criterion=gini, max_depth=5, n_estimators=200 ...................\n",
      "[CV] .... criterion=gini, max_depth=5, n_estimators=200, total=   7.4s\n",
      "[CV] criterion=gini, max_depth=5, n_estimators=200 ...................\n",
      "[CV] .... criterion=gini, max_depth=5, n_estimators=200, total=   7.2s\n",
      "[CV] criterion=gini, max_depth=5, n_estimators=200 ...................\n",
      "[CV] .... criterion=gini, max_depth=5, n_estimators=200, total=   7.4s\n",
      "[CV] criterion=gini, max_depth=5, n_estimators=300 ...................\n",
      "[CV] .... criterion=gini, max_depth=5, n_estimators=300, total=  11.0s\n",
      "[CV] criterion=gini, max_depth=5, n_estimators=300 ...................\n",
      "[CV] .... criterion=gini, max_depth=5, n_estimators=300, total=  11.2s\n",
      "[CV] criterion=gini, max_depth=5, n_estimators=300 ...................\n",
      "[CV] .... criterion=gini, max_depth=5, n_estimators=300, total=  10.8s\n",
      "[CV] criterion=gini, max_depth=5, n_estimators=300 ...................\n",
      "[CV] .... criterion=gini, max_depth=5, n_estimators=300, total=  10.6s\n",
      "[CV] criterion=gini, max_depth=5, n_estimators=300 ...................\n",
      "[CV] .... criterion=gini, max_depth=5, n_estimators=300, total=  11.2s\n",
      "[CV] criterion=gini, max_depth=5, n_estimators=400 ...................\n",
      "[CV] .... criterion=gini, max_depth=5, n_estimators=400, total=  14.4s\n",
      "[CV] criterion=gini, max_depth=5, n_estimators=400 ...................\n",
      "[CV] .... criterion=gini, max_depth=5, n_estimators=400, total=  14.3s\n",
      "[CV] criterion=gini, max_depth=5, n_estimators=400 ...................\n",
      "[CV] .... criterion=gini, max_depth=5, n_estimators=400, total=  14.4s\n",
      "[CV] criterion=gini, max_depth=5, n_estimators=400 ...................\n",
      "[CV] .... criterion=gini, max_depth=5, n_estimators=400, total=  14.7s\n",
      "[CV] criterion=gini, max_depth=5, n_estimators=400 ...................\n",
      "[CV] .... criterion=gini, max_depth=5, n_estimators=400, total=  14.4s\n",
      "[CV] criterion=gini, max_depth=5, n_estimators=500 ...................\n",
      "[CV] .... criterion=gini, max_depth=5, n_estimators=500, total=  17.9s\n",
      "[CV] criterion=gini, max_depth=5, n_estimators=500 ...................\n",
      "[CV] .... criterion=gini, max_depth=5, n_estimators=500, total=  18.1s\n",
      "[CV] criterion=gini, max_depth=5, n_estimators=500 ...................\n",
      "[CV] .... criterion=gini, max_depth=5, n_estimators=500, total=  18.1s\n",
      "[CV] criterion=gini, max_depth=5, n_estimators=500 ...................\n",
      "[CV] .... criterion=gini, max_depth=5, n_estimators=500, total=  18.0s\n",
      "[CV] criterion=gini, max_depth=5, n_estimators=500 ...................\n",
      "[CV] .... criterion=gini, max_depth=5, n_estimators=500, total=  18.3s\n",
      "[CV] criterion=gini, max_depth=10, n_estimators=100 ..................\n",
      "[CV] ... criterion=gini, max_depth=10, n_estimators=100, total=   6.4s\n",
      "[CV] criterion=gini, max_depth=10, n_estimators=100 ..................\n",
      "[CV] ... criterion=gini, max_depth=10, n_estimators=100, total=   6.3s\n",
      "[CV] criterion=gini, max_depth=10, n_estimators=100 ..................\n",
      "[CV] ... criterion=gini, max_depth=10, n_estimators=100, total=   6.4s\n",
      "[CV] criterion=gini, max_depth=10, n_estimators=100 ..................\n",
      "[CV] ... criterion=gini, max_depth=10, n_estimators=100, total=   6.5s\n",
      "[CV] criterion=gini, max_depth=10, n_estimators=100 ..................\n",
      "[CV] ... criterion=gini, max_depth=10, n_estimators=100, total=   6.3s\n",
      "[CV] criterion=gini, max_depth=10, n_estimators=200 ..................\n",
      "[CV] ... criterion=gini, max_depth=10, n_estimators=200, total=  12.0s\n",
      "[CV] criterion=gini, max_depth=10, n_estimators=200 ..................\n",
      "[CV] ... criterion=gini, max_depth=10, n_estimators=200, total=  11.8s\n",
      "[CV] criterion=gini, max_depth=10, n_estimators=200 ..................\n",
      "[CV] ... criterion=gini, max_depth=10, n_estimators=200, total=  12.0s\n",
      "[CV] criterion=gini, max_depth=10, n_estimators=200 ..................\n",
      "[CV] ... criterion=gini, max_depth=10, n_estimators=200, total=  11.5s\n",
      "[CV] criterion=gini, max_depth=10, n_estimators=200 ..................\n",
      "[CV] ... criterion=gini, max_depth=10, n_estimators=200, total=  11.4s\n",
      "[CV] criterion=gini, max_depth=10, n_estimators=300 ..................\n",
      "[CV] ... criterion=gini, max_depth=10, n_estimators=300, total=  17.2s\n",
      "[CV] criterion=gini, max_depth=10, n_estimators=300 ..................\n",
      "[CV] ... criterion=gini, max_depth=10, n_estimators=300, total=  17.1s\n",
      "[CV] criterion=gini, max_depth=10, n_estimators=300 ..................\n",
      "[CV] ... criterion=gini, max_depth=10, n_estimators=300, total=  17.4s\n",
      "[CV] criterion=gini, max_depth=10, n_estimators=300 ..................\n",
      "[CV] ... criterion=gini, max_depth=10, n_estimators=300, total=  17.1s\n",
      "[CV] criterion=gini, max_depth=10, n_estimators=300 ..................\n",
      "[CV] ... criterion=gini, max_depth=10, n_estimators=300, total=  17.6s\n",
      "[CV] criterion=gini, max_depth=10, n_estimators=400 ..................\n",
      "[CV] ... criterion=gini, max_depth=10, n_estimators=400, total=  23.1s\n",
      "[CV] criterion=gini, max_depth=10, n_estimators=400 ..................\n",
      "[CV] ... criterion=gini, max_depth=10, n_estimators=400, total=  22.9s\n",
      "[CV] criterion=gini, max_depth=10, n_estimators=400 ..................\n",
      "[CV] ... criterion=gini, max_depth=10, n_estimators=400, total=  23.1s\n",
      "[CV] criterion=gini, max_depth=10, n_estimators=400 ..................\n",
      "[CV] ... criterion=gini, max_depth=10, n_estimators=400, total=  23.0s\n",
      "[CV] criterion=gini, max_depth=10, n_estimators=400 ..................\n",
      "[CV] ... criterion=gini, max_depth=10, n_estimators=400, total=  23.2s\n",
      "[CV] criterion=gini, max_depth=10, n_estimators=500 ..................\n",
      "[CV] ... criterion=gini, max_depth=10, n_estimators=500, total=  28.4s\n",
      "[CV] criterion=gini, max_depth=10, n_estimators=500 ..................\n",
      "[CV] ... criterion=gini, max_depth=10, n_estimators=500, total=  28.2s\n",
      "[CV] criterion=gini, max_depth=10, n_estimators=500 ..................\n",
      "[CV] ... criterion=gini, max_depth=10, n_estimators=500, total=  29.2s\n",
      "[CV] criterion=gini, max_depth=10, n_estimators=500 ..................\n",
      "[CV] ... criterion=gini, max_depth=10, n_estimators=500, total=  28.1s\n",
      "[CV] criterion=gini, max_depth=10, n_estimators=500 ..................\n",
      "[CV] ... criterion=gini, max_depth=10, n_estimators=500, total=  28.1s\n",
      "[CV] criterion=gini, max_depth=15, n_estimators=100 ..................\n",
      "[CV] ... criterion=gini, max_depth=15, n_estimators=100, total=   7.5s\n",
      "[CV] criterion=gini, max_depth=15, n_estimators=100 ..................\n",
      "[CV] ... criterion=gini, max_depth=15, n_estimators=100, total=   7.4s\n",
      "[CV] criterion=gini, max_depth=15, n_estimators=100 ..................\n",
      "[CV] ... criterion=gini, max_depth=15, n_estimators=100, total=   7.5s\n",
      "[CV] criterion=gini, max_depth=15, n_estimators=100 ..................\n",
      "[CV] ... criterion=gini, max_depth=15, n_estimators=100, total=   7.6s\n",
      "[CV] criterion=gini, max_depth=15, n_estimators=100 ..................\n",
      "[CV] ... criterion=gini, max_depth=15, n_estimators=100, total=   7.7s\n",
      "[CV] criterion=gini, max_depth=15, n_estimators=200 ..................\n",
      "[CV] ... criterion=gini, max_depth=15, n_estimators=200, total=  14.4s\n",
      "[CV] criterion=gini, max_depth=15, n_estimators=200 ..................\n",
      "[CV] ... criterion=gini, max_depth=15, n_estimators=200, total=  14.6s\n",
      "[CV] criterion=gini, max_depth=15, n_estimators=200 ..................\n",
      "[CV] ... criterion=gini, max_depth=15, n_estimators=200, total=  14.4s\n",
      "[CV] criterion=gini, max_depth=15, n_estimators=200 ..................\n",
      "[CV] ... criterion=gini, max_depth=15, n_estimators=200, total=  14.6s\n",
      "[CV] criterion=gini, max_depth=15, n_estimators=200 ..................\n"
     ]
    },
    {
     "name": "stdout",
     "output_type": "stream",
     "text": [
      "[CV] ... criterion=gini, max_depth=15, n_estimators=200, total=  14.7s\n",
      "[CV] criterion=gini, max_depth=15, n_estimators=300 ..................\n",
      "[CV] ... criterion=gini, max_depth=15, n_estimators=300, total=  21.7s\n",
      "[CV] criterion=gini, max_depth=15, n_estimators=300 ..................\n",
      "[CV] ... criterion=gini, max_depth=15, n_estimators=300, total=  21.7s\n",
      "[CV] criterion=gini, max_depth=15, n_estimators=300 ..................\n",
      "[CV] ... criterion=gini, max_depth=15, n_estimators=300, total=  21.8s\n",
      "[CV] criterion=gini, max_depth=15, n_estimators=300 ..................\n",
      "[CV] ... criterion=gini, max_depth=15, n_estimators=300, total=  21.6s\n",
      "[CV] criterion=gini, max_depth=15, n_estimators=300 ..................\n",
      "[CV] ... criterion=gini, max_depth=15, n_estimators=300, total=  21.5s\n",
      "[CV] criterion=gini, max_depth=15, n_estimators=400 ..................\n",
      "[CV] ... criterion=gini, max_depth=15, n_estimators=400, total=  28.6s\n",
      "[CV] criterion=gini, max_depth=15, n_estimators=400 ..................\n",
      "[CV] ... criterion=gini, max_depth=15, n_estimators=400, total=  28.4s\n",
      "[CV] criterion=gini, max_depth=15, n_estimators=400 ..................\n",
      "[CV] ... criterion=gini, max_depth=15, n_estimators=400, total=  28.9s\n",
      "[CV] criterion=gini, max_depth=15, n_estimators=400 ..................\n",
      "[CV] ... criterion=gini, max_depth=15, n_estimators=400, total=  28.5s\n",
      "[CV] criterion=gini, max_depth=15, n_estimators=400 ..................\n",
      "[CV] ... criterion=gini, max_depth=15, n_estimators=400, total=  28.8s\n",
      "[CV] criterion=gini, max_depth=15, n_estimators=500 ..................\n",
      "[CV] ... criterion=gini, max_depth=15, n_estimators=500, total=  35.7s\n",
      "[CV] criterion=gini, max_depth=15, n_estimators=500 ..................\n",
      "[CV] ... criterion=gini, max_depth=15, n_estimators=500, total=  34.5s\n",
      "[CV] criterion=gini, max_depth=15, n_estimators=500 ..................\n",
      "[CV] ... criterion=gini, max_depth=15, n_estimators=500, total=  34.6s\n",
      "[CV] criterion=gini, max_depth=15, n_estimators=500 ..................\n",
      "[CV] ... criterion=gini, max_depth=15, n_estimators=500, total=  34.6s\n",
      "[CV] criterion=gini, max_depth=15, n_estimators=500 ..................\n",
      "[CV] ... criterion=gini, max_depth=15, n_estimators=500, total=  34.6s\n",
      "[CV] criterion=entropy, max_depth=5, n_estimators=100 ................\n",
      "[CV] . criterion=entropy, max_depth=5, n_estimators=100, total=   4.8s\n",
      "[CV] criterion=entropy, max_depth=5, n_estimators=100 ................\n",
      "[CV] . criterion=entropy, max_depth=5, n_estimators=100, total=   5.0s\n",
      "[CV] criterion=entropy, max_depth=5, n_estimators=100 ................\n",
      "[CV] . criterion=entropy, max_depth=5, n_estimators=100, total=   5.0s\n",
      "[CV] criterion=entropy, max_depth=5, n_estimators=100 ................\n",
      "[CV] . criterion=entropy, max_depth=5, n_estimators=100, total=   5.0s\n",
      "[CV] criterion=entropy, max_depth=5, n_estimators=100 ................\n",
      "[CV] . criterion=entropy, max_depth=5, n_estimators=100, total=   4.8s\n",
      "[CV] criterion=entropy, max_depth=5, n_estimators=200 ................\n",
      "[CV] . criterion=entropy, max_depth=5, n_estimators=200, total=   9.3s\n",
      "[CV] criterion=entropy, max_depth=5, n_estimators=200 ................\n",
      "[CV] . criterion=entropy, max_depth=5, n_estimators=200, total=   9.1s\n",
      "[CV] criterion=entropy, max_depth=5, n_estimators=200 ................\n",
      "[CV] . criterion=entropy, max_depth=5, n_estimators=200, total=   9.5s\n",
      "[CV] criterion=entropy, max_depth=5, n_estimators=200 ................\n",
      "[CV] . criterion=entropy, max_depth=5, n_estimators=200, total=   9.2s\n",
      "[CV] criterion=entropy, max_depth=5, n_estimators=200 ................\n",
      "[CV] . criterion=entropy, max_depth=5, n_estimators=200, total=   9.1s\n",
      "[CV] criterion=entropy, max_depth=5, n_estimators=300 ................\n",
      "[CV] . criterion=entropy, max_depth=5, n_estimators=300, total=  13.5s\n",
      "[CV] criterion=entropy, max_depth=5, n_estimators=300 ................\n",
      "[CV] . criterion=entropy, max_depth=5, n_estimators=300, total=  13.8s\n",
      "[CV] criterion=entropy, max_depth=5, n_estimators=300 ................\n",
      "[CV] . criterion=entropy, max_depth=5, n_estimators=300, total=  13.7s\n",
      "[CV] criterion=entropy, max_depth=5, n_estimators=300 ................\n",
      "[CV] . criterion=entropy, max_depth=5, n_estimators=300, total=  13.6s\n",
      "[CV] criterion=entropy, max_depth=5, n_estimators=300 ................\n",
      "[CV] . criterion=entropy, max_depth=5, n_estimators=300, total=  13.8s\n",
      "[CV] criterion=entropy, max_depth=5, n_estimators=400 ................\n",
      "[CV] . criterion=entropy, max_depth=5, n_estimators=400, total=  18.1s\n",
      "[CV] criterion=entropy, max_depth=5, n_estimators=400 ................\n",
      "[CV] . criterion=entropy, max_depth=5, n_estimators=400, total=  18.0s\n",
      "[CV] criterion=entropy, max_depth=5, n_estimators=400 ................\n",
      "[CV] . criterion=entropy, max_depth=5, n_estimators=400, total=  18.0s\n",
      "[CV] criterion=entropy, max_depth=5, n_estimators=400 ................\n",
      "[CV] . criterion=entropy, max_depth=5, n_estimators=400, total=  18.1s\n",
      "[CV] criterion=entropy, max_depth=5, n_estimators=400 ................\n",
      "[CV] . criterion=entropy, max_depth=5, n_estimators=400, total=  18.0s\n",
      "[CV] criterion=entropy, max_depth=5, n_estimators=500 ................\n",
      "[CV] . criterion=entropy, max_depth=5, n_estimators=500, total=  22.6s\n",
      "[CV] criterion=entropy, max_depth=5, n_estimators=500 ................\n",
      "[CV] . criterion=entropy, max_depth=5, n_estimators=500, total=  22.4s\n",
      "[CV] criterion=entropy, max_depth=5, n_estimators=500 ................\n",
      "[CV] . criterion=entropy, max_depth=5, n_estimators=500, total=  22.6s\n",
      "[CV] criterion=entropy, max_depth=5, n_estimators=500 ................\n",
      "[CV] . criterion=entropy, max_depth=5, n_estimators=500, total=  22.4s\n",
      "[CV] criterion=entropy, max_depth=5, n_estimators=500 ................\n",
      "[CV] . criterion=entropy, max_depth=5, n_estimators=500, total=  22.6s\n",
      "[CV] criterion=entropy, max_depth=10, n_estimators=100 ...............\n",
      "[CV]  criterion=entropy, max_depth=10, n_estimators=100, total=   8.1s\n",
      "[CV] criterion=entropy, max_depth=10, n_estimators=100 ...............\n",
      "[CV]  criterion=entropy, max_depth=10, n_estimators=100, total=   8.3s\n",
      "[CV] criterion=entropy, max_depth=10, n_estimators=100 ...............\n",
      "[CV]  criterion=entropy, max_depth=10, n_estimators=100, total=   8.3s\n",
      "[CV] criterion=entropy, max_depth=10, n_estimators=100 ...............\n",
      "[CV]  criterion=entropy, max_depth=10, n_estimators=100, total=   8.3s\n",
      "[CV] criterion=entropy, max_depth=10, n_estimators=100 ...............\n",
      "[CV]  criterion=entropy, max_depth=10, n_estimators=100, total=   8.1s\n",
      "[CV] criterion=entropy, max_depth=10, n_estimators=200 ...............\n",
      "[CV]  criterion=entropy, max_depth=10, n_estimators=200, total=  15.8s\n",
      "[CV] criterion=entropy, max_depth=10, n_estimators=200 ...............\n",
      "[CV]  criterion=entropy, max_depth=10, n_estimators=200, total=  15.6s\n",
      "[CV] criterion=entropy, max_depth=10, n_estimators=200 ...............\n",
      "[CV]  criterion=entropy, max_depth=10, n_estimators=200, total=  15.5s\n",
      "[CV] criterion=entropy, max_depth=10, n_estimators=200 ...............\n",
      "[CV]  criterion=entropy, max_depth=10, n_estimators=200, total=  15.7s\n",
      "[CV] criterion=entropy, max_depth=10, n_estimators=200 ...............\n",
      "[CV]  criterion=entropy, max_depth=10, n_estimators=200, total=  16.7s\n",
      "[CV] criterion=entropy, max_depth=10, n_estimators=300 ...............\n",
      "[CV]  criterion=entropy, max_depth=10, n_estimators=300, total=  23.9s\n",
      "[CV] criterion=entropy, max_depth=10, n_estimators=300 ...............\n",
      "[CV]  criterion=entropy, max_depth=10, n_estimators=300, total=  23.3s\n",
      "[CV] criterion=entropy, max_depth=10, n_estimators=300 ...............\n",
      "[CV]  criterion=entropy, max_depth=10, n_estimators=300, total=  23.0s\n",
      "[CV] criterion=entropy, max_depth=10, n_estimators=300 ...............\n",
      "[CV]  criterion=entropy, max_depth=10, n_estimators=300, total=  23.0s\n",
      "[CV] criterion=entropy, max_depth=10, n_estimators=300 ...............\n",
      "[CV]  criterion=entropy, max_depth=10, n_estimators=300, total=  23.4s\n",
      "[CV] criterion=entropy, max_depth=10, n_estimators=400 ...............\n",
      "[CV]  criterion=entropy, max_depth=10, n_estimators=400, total=  31.2s\n",
      "[CV] criterion=entropy, max_depth=10, n_estimators=400 ...............\n",
      "[CV]  criterion=entropy, max_depth=10, n_estimators=400, total=  30.9s\n",
      "[CV] criterion=entropy, max_depth=10, n_estimators=400 ...............\n"
     ]
    },
    {
     "name": "stdout",
     "output_type": "stream",
     "text": [
      "[CV]  criterion=entropy, max_depth=10, n_estimators=400, total=  30.7s\n",
      "[CV] criterion=entropy, max_depth=10, n_estimators=400 ...............\n",
      "[CV]  criterion=entropy, max_depth=10, n_estimators=400, total=  31.1s\n",
      "[CV] criterion=entropy, max_depth=10, n_estimators=400 ...............\n",
      "[CV]  criterion=entropy, max_depth=10, n_estimators=400, total=  30.6s\n",
      "[CV] criterion=entropy, max_depth=10, n_estimators=500 ...............\n",
      "[CV]  criterion=entropy, max_depth=10, n_estimators=500, total=  38.6s\n",
      "[CV] criterion=entropy, max_depth=10, n_estimators=500 ...............\n",
      "[CV]  criterion=entropy, max_depth=10, n_estimators=500, total=  40.1s\n",
      "[CV] criterion=entropy, max_depth=10, n_estimators=500 ...............\n",
      "[CV]  criterion=entropy, max_depth=10, n_estimators=500, total=  39.1s\n",
      "[CV] criterion=entropy, max_depth=10, n_estimators=500 ...............\n",
      "[CV]  criterion=entropy, max_depth=10, n_estimators=500, total=  39.9s\n",
      "[CV] criterion=entropy, max_depth=10, n_estimators=500 ...............\n",
      "[CV]  criterion=entropy, max_depth=10, n_estimators=500, total=  38.9s\n",
      "[CV] criterion=entropy, max_depth=15, n_estimators=100 ...............\n",
      "[CV]  criterion=entropy, max_depth=15, n_estimators=100, total=  11.0s\n",
      "[CV] criterion=entropy, max_depth=15, n_estimators=100 ...............\n",
      "[CV]  criterion=entropy, max_depth=15, n_estimators=100, total=  11.1s\n",
      "[CV] criterion=entropy, max_depth=15, n_estimators=100 ...............\n",
      "[CV]  criterion=entropy, max_depth=15, n_estimators=100, total=  11.1s\n",
      "[CV] criterion=entropy, max_depth=15, n_estimators=100 ...............\n",
      "[CV]  criterion=entropy, max_depth=15, n_estimators=100, total=  10.6s\n",
      "[CV] criterion=entropy, max_depth=15, n_estimators=100 ...............\n",
      "[CV]  criterion=entropy, max_depth=15, n_estimators=100, total=  11.1s\n",
      "[CV] criterion=entropy, max_depth=15, n_estimators=200 ...............\n",
      "[CV]  criterion=entropy, max_depth=15, n_estimators=200, total=  21.4s\n",
      "[CV] criterion=entropy, max_depth=15, n_estimators=200 ...............\n",
      "[CV]  criterion=entropy, max_depth=15, n_estimators=200, total=  20.7s\n",
      "[CV] criterion=entropy, max_depth=15, n_estimators=200 ...............\n",
      "[CV]  criterion=entropy, max_depth=15, n_estimators=200, total=  20.9s\n",
      "[CV] criterion=entropy, max_depth=15, n_estimators=200 ...............\n",
      "[CV]  criterion=entropy, max_depth=15, n_estimators=200, total=  21.1s\n",
      "[CV] criterion=entropy, max_depth=15, n_estimators=200 ...............\n",
      "[CV]  criterion=entropy, max_depth=15, n_estimators=200, total=  20.6s\n",
      "[CV] criterion=entropy, max_depth=15, n_estimators=300 ...............\n",
      "[CV]  criterion=entropy, max_depth=15, n_estimators=300, total=  30.7s\n",
      "[CV] criterion=entropy, max_depth=15, n_estimators=300 ...............\n",
      "[CV]  criterion=entropy, max_depth=15, n_estimators=300, total=  30.5s\n",
      "[CV] criterion=entropy, max_depth=15, n_estimators=300 ...............\n",
      "[CV]  criterion=entropy, max_depth=15, n_estimators=300, total=  31.0s\n",
      "[CV] criterion=entropy, max_depth=15, n_estimators=300 ...............\n",
      "[CV]  criterion=entropy, max_depth=15, n_estimators=300, total=  31.4s\n",
      "[CV] criterion=entropy, max_depth=15, n_estimators=300 ...............\n",
      "[CV]  criterion=entropy, max_depth=15, n_estimators=300, total=  30.9s\n",
      "[CV] criterion=entropy, max_depth=15, n_estimators=400 ...............\n",
      "[CV]  criterion=entropy, max_depth=15, n_estimators=400, total=  41.0s\n",
      "[CV] criterion=entropy, max_depth=15, n_estimators=400 ...............\n",
      "[CV]  criterion=entropy, max_depth=15, n_estimators=400, total=  40.5s\n",
      "[CV] criterion=entropy, max_depth=15, n_estimators=400 ...............\n",
      "[CV]  criterion=entropy, max_depth=15, n_estimators=400, total=  40.6s\n",
      "[CV] criterion=entropy, max_depth=15, n_estimators=400 ...............\n",
      "[CV]  criterion=entropy, max_depth=15, n_estimators=400, total=  41.1s\n",
      "[CV] criterion=entropy, max_depth=15, n_estimators=400 ...............\n",
      "[CV]  criterion=entropy, max_depth=15, n_estimators=400, total=  40.4s\n",
      "[CV] criterion=entropy, max_depth=15, n_estimators=500 ...............\n",
      "[CV]  criterion=entropy, max_depth=15, n_estimators=500, total=  50.9s\n",
      "[CV] criterion=entropy, max_depth=15, n_estimators=500 ...............\n",
      "[CV]  criterion=entropy, max_depth=15, n_estimators=500, total=  52.3s\n",
      "[CV] criterion=entropy, max_depth=15, n_estimators=500 ...............\n",
      "[CV]  criterion=entropy, max_depth=15, n_estimators=500, total=  50.5s\n",
      "[CV] criterion=entropy, max_depth=15, n_estimators=500 ...............\n",
      "[CV]  criterion=entropy, max_depth=15, n_estimators=500, total=  50.9s\n",
      "[CV] criterion=entropy, max_depth=15, n_estimators=500 ...............\n",
      "[CV]  criterion=entropy, max_depth=15, n_estimators=500, total=  51.7s\n"
     ]
    },
    {
     "name": "stderr",
     "output_type": "stream",
     "text": [
      "[Parallel(n_jobs=1)]: Done 150 out of 150 | elapsed: 49.2min finished\n"
     ]
    }
   ],
   "source": [
    "forest_params = {\n",
    "    'n_estimators':[100, 200, 300, 400, 500],\n",
    "    'criterion':['gini', 'entropy'],\n",
    "    'max_depth':np.arange(5, 20, 5),\n",
    "}\n",
    "best_forest = gridsearchCV(RandomForestClassifier(random_state=SEED, warm_start=True, n_jobs=-1), \n",
    "                          forest_params, X_train, y_train)"
   ]
  },
  {
   "cell_type": "markdown",
   "metadata": {},
   "source": [
    "# 7. 改善モデルの評価"
   ]
  },
  {
   "cell_type": "markdown",
   "metadata": {},
   "source": [
    "#### ロジスティック回帰"
   ]
  },
  {
   "cell_type": "code",
   "execution_count": 70,
   "metadata": {},
   "outputs": [
    {
     "name": "stdout",
     "output_type": "stream",
     "text": [
      "accuracy =  0.6464657371539635\n",
      "precision =  0.6065758301815998\n",
      "recall =  0.528719480080979\n",
      "f1 score =  0.47477326076247034\n",
      "confusion matrix = \n",
      " [[ 2768 24023]\n",
      " [ 2170 45128]]\n",
      "confusion matrix plot:\n"
     ]
    },
    {
     "data": {
      "image/png": "[encoded data removed]",
      "text/plain": [
       "<Figure size 432x288 with 2 Axes>"
      ]
     },
     "metadata": {
      "needs_background": "light"
     },
     "output_type": "display_data"
    }
   ],
   "source": [
    "print_validation_scores(y_valid, best_logit.predict(X_valid))"
   ]
  },
  {
   "cell_type": "markdown",
   "metadata": {},
   "source": [
    "わずかではあるが向上が見られた"
   ]
  },
  {
   "cell_type": "markdown",
   "metadata": {},
   "source": [
    "#### サポートベクトルマシン"
   ]
  },
  {
   "cell_type": "code",
   "execution_count": 71,
   "metadata": {},
   "outputs": [
    {
     "name": "stdout",
     "output_type": "stream",
     "text": [
      "accuracy =  0.6430914170794585\n",
      "precision =  0.6021527494347133\n",
      "recall =  0.5173133377545247\n",
      "f1 score =  0.4448178741619166\n",
      "confusion matrix = \n",
      " [[ 1685 25106]\n",
      " [ 1337 45961]]\n",
      "confusion matrix plot:\n"
     ]
    },
    {
     "data": {
      "image/png": "[encoded data removed]",
      "text/plain": [
       "<Figure size 432x288 with 2 Axes>"
      ]
     },
     "metadata": {
      "needs_background": "light"
     },
     "output_type": "display_data"
    }
   ],
   "source": [
    "print_validation_scores(y_valid, best_linearsvm.predict(X_vl))"
   ]
  },
  {
   "cell_type": "markdown",
   "metadata": {},
   "source": [
    "今回計算時間の関係で、線形カーネル、RBFカーネルで関数を分けた。"
   ]
  },
  {
   "cell_type": "markdown",
   "metadata": {},
   "source": [
    "#### 決定木"
   ]
  },
  {
   "cell_type": "code",
   "execution_count": 72,
   "metadata": {},
   "outputs": [
    {
     "name": "stdout",
     "output_type": "stream",
     "text": [
      "accuracy =  0.6743376209693747\n",
      "precision =  0.6403968607713701\n",
      "recall =  0.6098047651126761\n",
      "f1 score =  0.6115889847413836\n",
      "confusion matrix = \n",
      " [[10091 16700]\n",
      " [ 7428 39870]]\n",
      "confusion matrix plot:\n"
     ]
    },
    {
     "data": {
      "image/png": "[encoded data removed]",
      "text/plain": [
       "<Figure size 432x288 with 2 Axes>"
      ]
     },
     "metadata": {
      "needs_background": "light"
     },
     "output_type": "display_data"
    }
   ],
   "source": [
    "print_validation_scores(y_valid, best_tree.predict(X_valid))"
   ]
  },
  {
   "cell_type": "markdown",
   "metadata": {},
   "source": [
    "明らかに向上しているのが見て取れる。"
   ]
  },
  {
   "cell_type": "markdown",
   "metadata": {},
   "source": [
    "#### ランダムフォレスト"
   ]
  },
  {
   "cell_type": "code",
   "execution_count": 73,
   "metadata": {},
   "outputs": [
    {
     "name": "stdout",
     "output_type": "stream",
     "text": [
      "accuracy =  0.6951504271889214\n",
      "precision =  0.673292203839441\n",
      "recall =  0.6241393796899566\n",
      "f1 score =  0.6262699843141208\n",
      "confusion matrix = \n",
      " [[ 9848 16943]\n",
      " [ 5643 41655]]\n",
      "confusion matrix plot:\n"
     ]
    },
    {
     "data": {
      "image/png": "[encoded data removed]",
      "text/plain": [
       "<Figure size 432x288 with 2 Axes>"
      ]
     },
     "metadata": {
      "needs_background": "light"
     },
     "output_type": "display_data"
    }
   ],
   "source": [
    "print_validation_scores(y_valid, best_forest.predict(X_valid))"
   ]
  },
  {
   "cell_type": "markdown",
   "metadata": {},
   "source": [
    "こちらも向上していることがわかる"
   ]
  },
  {
   "cell_type": "markdown",
   "metadata": {},
   "source": [
    "# 7. ニューラルネットワークでの学習"
   ]
  },
  {
   "cell_type": "code",
   "execution_count": 76,
   "metadata": {},
   "outputs": [],
   "source": [
    "def MLP(input_shape, lr=0.01):\n",
    "    \n",
    "    inputs = Input(shape=input_shape)\n",
    "    x = Dense(2 ** 6, activation='relu', kernel_initializer='normal')(inputs)\n",
    "    x = Dense(2 ** 4, activation='relu', kernel_initializer='normal')(x)\n",
    "    x = Dropout(0.5)(x)\n",
    "    x = Dense(num_classes, activation='softmax')(x)\n",
    "\n",
    "    model = Model(inputs=inputs, outputs=x)\n",
    "    model.compile(optimizer=SGD(learning_rate=lr, momentum=0.9, nesterov=True), loss = tf.keras.losses.binary_crossentropy, metrics=['accuracy'])\n",
    "    \n",
    "    return model"
   ]
  },
  {
   "cell_type": "code",
   "execution_count": 77,
   "metadata": {},
   "outputs": [
    {
     "name": "stdout",
     "output_type": "stream",
     "text": [
      "Train on 296356 samples, validate on 74089 samples\n",
      "Epoch 1/50\n",
      "296356/296356 - 6s - loss: 0.6394 - accuracy: 0.6403 - val_loss: 0.6311 - val_accuracy: 0.6422\n",
      "Epoch 2/50\n",
      "296356/296356 - 5s - loss: 0.6315 - accuracy: 0.6425 - val_loss: 0.6268 - val_accuracy: 0.6427\n",
      "Epoch 3/50\n",
      "296356/296356 - 5s - loss: 0.6276 - accuracy: 0.6442 - val_loss: 0.6214 - val_accuracy: 0.6468\n",
      "Epoch 4/50\n",
      "296356/296356 - 5s - loss: 0.6242 - accuracy: 0.6459 - val_loss: 0.6186 - val_accuracy: 0.6486\n",
      "Epoch 5/50\n",
      "296356/296356 - 5s - loss: 0.6212 - accuracy: 0.6470 - val_loss: 0.6192 - val_accuracy: 0.6441\n",
      "Epoch 6/50\n",
      "296356/296356 - 5s - loss: 0.6186 - accuracy: 0.6498 - val_loss: 0.6135 - val_accuracy: 0.6544\n",
      "Epoch 7/50\n",
      "296356/296356 - 5s - loss: 0.6173 - accuracy: 0.6505 - val_loss: 0.6097 - val_accuracy: 0.6553\n",
      "Epoch 8/50\n",
      "296356/296356 - 5s - loss: 0.6153 - accuracy: 0.6530 - val_loss: 0.6087 - val_accuracy: 0.6586\n",
      "Epoch 9/50\n",
      "296356/296356 - 5s - loss: 0.6147 - accuracy: 0.6540 - val_loss: 0.6073 - val_accuracy: 0.6656\n",
      "Epoch 10/50\n",
      "296356/296356 - 5s - loss: 0.6133 - accuracy: 0.6555 - val_loss: 0.6092 - val_accuracy: 0.6648\n",
      "Epoch 11/50\n",
      "296356/296356 - 5s - loss: 0.6129 - accuracy: 0.6564 - val_loss: 0.6067 - val_accuracy: 0.6555\n",
      "Epoch 12/50\n",
      "296356/296356 - 5s - loss: 0.6120 - accuracy: 0.6576 - val_loss: 0.6053 - val_accuracy: 0.6672\n",
      "Epoch 13/50\n",
      "296356/296356 - 5s - loss: 0.6112 - accuracy: 0.6589 - val_loss: 0.6029 - val_accuracy: 0.6697\n",
      "Epoch 14/50\n",
      "296356/296356 - 5s - loss: 0.6106 - accuracy: 0.6597 - val_loss: 0.6036 - val_accuracy: 0.6649\n",
      "Epoch 15/50\n",
      "296356/296356 - 5s - loss: 0.6098 - accuracy: 0.6604 - val_loss: 0.6058 - val_accuracy: 0.6651\n",
      "Epoch 16/50\n",
      "296356/296356 - 5s - loss: 0.6096 - accuracy: 0.6601 - val_loss: 0.6033 - val_accuracy: 0.6646\n",
      "Epoch 17/50\n",
      "296356/296356 - 5s - loss: 0.6086 - accuracy: 0.6610 - val_loss: 0.6017 - val_accuracy: 0.6692\n",
      "Epoch 18/50\n",
      "296356/296356 - 5s - loss: 0.6075 - accuracy: 0.6633 - val_loss: 0.6049 - val_accuracy: 0.6625\n",
      "Epoch 19/50\n",
      "296356/296356 - 5s - loss: 0.6074 - accuracy: 0.6616 - val_loss: 0.6007 - val_accuracy: 0.6672\n",
      "Epoch 20/50\n",
      "296356/296356 - 5s - loss: 0.6072 - accuracy: 0.6626 - val_loss: 0.5982 - val_accuracy: 0.6728\n",
      "Epoch 21/50\n",
      "296356/296356 - 5s - loss: 0.6068 - accuracy: 0.6634 - val_loss: 0.6002 - val_accuracy: 0.6728\n",
      "Epoch 22/50\n",
      "296356/296356 - 5s - loss: 0.6060 - accuracy: 0.6647 - val_loss: 0.6008 - val_accuracy: 0.6648\n",
      "Epoch 23/50\n",
      "296356/296356 - 5s - loss: 0.6058 - accuracy: 0.6635 - val_loss: 0.6007 - val_accuracy: 0.6732\n",
      "Epoch 24/50\n",
      "296356/296356 - 5s - loss: 0.6053 - accuracy: 0.6652 - val_loss: 0.5979 - val_accuracy: 0.6749\n",
      "Epoch 25/50\n",
      "296356/296356 - 5s - loss: 0.6052 - accuracy: 0.6653 - val_loss: 0.5976 - val_accuracy: 0.6745\n",
      "Epoch 26/50\n",
      "296356/296356 - 5s - loss: 0.6049 - accuracy: 0.6659 - val_loss: 0.5988 - val_accuracy: 0.6736\n",
      "Epoch 27/50\n",
      "296356/296356 - 5s - loss: 0.6048 - accuracy: 0.6658 - val_loss: 0.6009 - val_accuracy: 0.6655\n",
      "Epoch 28/50\n",
      "296356/296356 - 5s - loss: 0.6039 - accuracy: 0.6665 - val_loss: 0.5982 - val_accuracy: 0.6728\n",
      "Epoch 29/50\n",
      "296356/296356 - 5s - loss: 0.6040 - accuracy: 0.6664 - val_loss: 0.5980 - val_accuracy: 0.6717\n",
      "Epoch 30/50\n",
      "296356/296356 - 5s - loss: 0.6037 - accuracy: 0.6667 - val_loss: 0.5973 - val_accuracy: 0.6737\n",
      "Epoch 31/50\n",
      "296356/296356 - 5s - loss: 0.6035 - accuracy: 0.6676 - val_loss: 0.5987 - val_accuracy: 0.6703\n",
      "Epoch 32/50\n",
      "296356/296356 - 5s - loss: 0.6030 - accuracy: 0.6680 - val_loss: 0.6004 - val_accuracy: 0.6679\n",
      "Epoch 33/50\n",
      "296356/296356 - 5s - loss: 0.6030 - accuracy: 0.6681 - val_loss: 0.5984 - val_accuracy: 0.6715\n",
      "Epoch 34/50\n",
      "296356/296356 - 5s - loss: 0.6028 - accuracy: 0.6680 - val_loss: 0.5969 - val_accuracy: 0.6764\n",
      "Epoch 35/50\n",
      "296356/296356 - 5s - loss: 0.6028 - accuracy: 0.6678 - val_loss: 0.5970 - val_accuracy: 0.6731\n",
      "Epoch 36/50\n",
      "296356/296356 - 5s - loss: 0.6026 - accuracy: 0.6679 - val_loss: 0.5962 - val_accuracy: 0.6747\n",
      "Epoch 37/50\n",
      "296356/296356 - 5s - loss: 0.6023 - accuracy: 0.6680 - val_loss: 0.5971 - val_accuracy: 0.6758\n",
      "Epoch 38/50\n",
      "296356/296356 - 5s - loss: 0.6021 - accuracy: 0.6687 - val_loss: 0.5962 - val_accuracy: 0.6770\n",
      "Epoch 39/50\n",
      "296356/296356 - 5s - loss: 0.6019 - accuracy: 0.6687 - val_loss: 0.5961 - val_accuracy: 0.6741\n",
      "Epoch 40/50\n",
      "296356/296356 - 5s - loss: 0.6018 - accuracy: 0.6698 - val_loss: 0.5973 - val_accuracy: 0.6714\n",
      "Epoch 41/50\n",
      "296356/296356 - 5s - loss: 0.6015 - accuracy: 0.6687 - val_loss: 0.5971 - val_accuracy: 0.6724\n",
      "Epoch 42/50\n",
      "296356/296356 - 5s - loss: 0.6016 - accuracy: 0.6697 - val_loss: 0.5948 - val_accuracy: 0.6773\n",
      "Epoch 43/50\n",
      "296356/296356 - 5s - loss: 0.6011 - accuracy: 0.6700 - val_loss: 0.5968 - val_accuracy: 0.6732\n",
      "Epoch 44/50\n",
      "296356/296356 - 5s - loss: 0.6018 - accuracy: 0.6691 - val_loss: 0.5936 - val_accuracy: 0.6783\n",
      "Epoch 45/50\n",
      "296356/296356 - 5s - loss: 0.6014 - accuracy: 0.6689 - val_loss: 0.5974 - val_accuracy: 0.6724\n",
      "Epoch 46/50\n",
      "296356/296356 - 5s - loss: 0.6010 - accuracy: 0.6697 - val_loss: 0.5950 - val_accuracy: 0.6778\n",
      "Epoch 47/50\n",
      "296356/296356 - 5s - loss: 0.6010 - accuracy: 0.6698 - val_loss: 0.5950 - val_accuracy: 0.6766\n",
      "Epoch 48/50\n",
      "296356/296356 - 5s - loss: 0.6008 - accuracy: 0.6707 - val_loss: 0.5941 - val_accuracy: 0.6775\n",
      "Epoch 49/50\n",
      "Restoring model weights from the end of the best epoch.\n",
      "296356/296356 - 5s - loss: 0.6009 - accuracy: 0.6700 - val_loss: 0.5976 - val_accuracy: 0.6737\n",
      "Epoch 00049: early stopping\n"
     ]
    },
    {
     "data": {
      "text/plain": [
       "<tensorflow.python.keras.callbacks.History at 0x200ca8b2a48>"
      ]
     },
     "execution_count": 77,
     "metadata": {},
     "output_type": "execute_result"
    }
   ],
   "source": [
    "nn = MLP((X_train.shape[1], ))\n",
    "nn.fit(X_train, y_tr_nn, batch_size=batch_size,\n",
    "       epochs=epochs, validation_data=(X_valid, y_vl_nn),\n",
    "       callbacks=[es],\n",
    "       verbose=2)"
   ]
  },
  {
   "cell_type": "code",
   "execution_count": 78,
   "metadata": {},
   "outputs": [
    {
     "name": "stdout",
     "output_type": "stream",
     "text": [
      "accuracy =  0.6782518322558004\n",
      "precision =  0.652232279009576\n",
      "recall =  0.5965980003650966\n",
      "f1 score =  0.5918326185305383\n",
      "confusion matrix = \n",
      " [[ 8080 18711]\n",
      " [ 5127 42171]]\n",
      "confusion matrix plot:\n"
     ]
    },
    {
     "data": {
      "image/png": "[encoded data removed]",
      "text/plain": [
       "<Figure size 432x288 with 2 Axes>"
      ]
     },
     "metadata": {
      "needs_background": "light"
     },
     "output_type": "display_data"
    }
   ],
   "source": [
    "print_validation_scores(y_valid, np.argmax(nn.predict(X_valid), axis=1))"
   ]
  },
  {
   "cell_type": "code",
   "execution_count": null,
   "metadata": {},
   "outputs": [],
   "source": []
  }
 ],
 "metadata": {
  "kernelspec": {
   "display_name": "Python 3",
   "language": "python",
   "name": "python3"
  },
  "language_info": {
   "codemirror_mode": {
    "name": "ipython",
    "version": 3
   },
   "file_extension": ".py",
   "mimetype": "text/x-python",
   "name": "python",
   "nbconvert_exporter": "python",
   "pygments_lexer": "ipython3",
   "version": "3.7.8"
  }
 },
 "nbformat": 4,
 "nbformat_minor": 4
}
